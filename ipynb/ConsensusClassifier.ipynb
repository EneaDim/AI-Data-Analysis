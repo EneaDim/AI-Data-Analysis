{
  "nbformat": 4,
  "nbformat_minor": 0,
  "metadata": {
    "colab": {
      "name": "ConsensusClassifier.ipynb",
      "provenance": [],
      "toc_visible": true
    },
    "kernelspec": {
      "name": "python3",
      "display_name": "Python 3"
    },
    "accelerator": "GPU"
  },
  "cells": [
    {
      "cell_type": "markdown",
      "metadata": {
        "id": "djkpRmWKoySi"
      },
      "source": [
        "# IMPORT"
      ]
    },
    {
      "cell_type": "code",
      "metadata": {
        "colab": {
          "base_uri": "https://localhost:8080/"
        },
        "id": "je0N_JGqo1ES",
        "outputId": "5a0317c4-e8c9-4db7-a1d8-594c07756f7b"
      },
      "source": [
        "# GENERAL\n",
        "import os\n",
        "import time \n",
        "import gzip\n",
        "import numpy as np\n",
        "import pandas as pd\n",
        "import matplotlib.pyplot as plt\n",
        "# PREPROCESSING\n",
        "import imblearn\n",
        "from imblearn.over_sampling import SMOTE\n",
        "from sklearn.model_selection import train_test_split\n",
        "from sklearn.utils import shuffle\n",
        "from sklearn.preprocessing import LabelEncoder\n",
        "from sklearn.preprocessing import MinMaxScaler\n",
        "from sklearn.preprocessing import StandardScaler\n",
        "from sklearn.decomposition import PCA\n",
        "# IMAGE CLASSIFICATION\n",
        "import tensorflow as tf\n",
        "import keras\n",
        "from keras import layers\n",
        "from keras.callbacks import EarlyStopping, ReduceLROnPlateau, TensorBoard\n",
        "from sklearn.preprocessing import LabelBinarizer\n",
        "from keras.utils import to_categorical\n",
        "from keras.models import model_from_json\n",
        "# PLOT RESULTS\n",
        "from sklearn.metrics import confusion_matrix\n",
        "import seaborn as sns"
      ],
      "execution_count": 1,
      "outputs": [
        {
          "output_type": "stream",
          "text": [
            "/usr/local/lib/python3.6/dist-packages/sklearn/externals/six.py:31: FutureWarning: The module is deprecated in version 0.21 and will be removed in version 0.23 since we've dropped support for Python 2.7. Please rely on the official version of six (https://pypi.org/project/six/).\n",
            "  \"(https://pypi.org/project/six/).\", FutureWarning)\n",
            "/usr/local/lib/python3.6/dist-packages/sklearn/utils/deprecation.py:144: FutureWarning: The sklearn.neighbors.base module is  deprecated in version 0.22 and will be removed in version 0.24. The corresponding classes / functions should instead be imported from sklearn.neighbors. Anything that cannot be imported from sklearn.neighbors is now part of the private API.\n",
            "  warnings.warn(message, FutureWarning)\n"
          ],
          "name": "stderr"
        }
      ]
    },
    {
      "cell_type": "markdown",
      "metadata": {
        "id": "ECm6FRpupia5"
      },
      "source": [
        "# DEFINE FUNCTIONS"
      ]
    },
    {
      "cell_type": "code",
      "metadata": {
        "id": "QPDBFqpupkvC"
      },
      "source": [
        "def load_GenomicsData(directory, label):\n",
        "    k = 0                                                                       # TRACK THE NUMBER OF SAMPLES\n",
        "    file_content_string = \"\"  \n",
        "    feature_vector_list = []\n",
        "    feature_vector = []\n",
        "    feature_samples_list = []\n",
        "    os.chdir(directory)                                                         # CHANGE DIRECTORY\n",
        "    print(\"Current Working Directory \", os.getcwd())\n",
        "    print(\"Extracting data ...\")\n",
        "    for i in os.listdir():                                                      # LIST SUBDIRECTORIES ON 'i' VARIABLE\n",
        "      if (len(i) == 36):                                                        # LENGHT OF FOLDERS\n",
        "        os.chdir(path=directory+'/'+i)                                          # CHANGE DIRECTORY\n",
        "        for j in os.listdir():                                                  # LIST SUBDIRECTORIES ON 'j' VARIABLE\n",
        "          if (j[-1] == 'z' and j[-2] == 'g' and j[-3] == '.'):                  # SEE IF IS A .gz FILE\n",
        "            with gzip.open(j, 'r') as f:                                        # OPEN FILE\n",
        "              file_content = f.read()                                           # READ FILE\n",
        "              file_content_string += file_content.decode(\"utf-8\")               # DECODE PHASE\n",
        "              feature_vector_list = file_content_string.split()\n",
        "              for w in range(0, len(feature_vector_list)):\n",
        "                if (not (w % 2) and (k == 0)):\n",
        "                  feature_vector.append(feature_vector_list[w])                 # FEATURE VECTOR\n",
        "                elif (w % 2):\n",
        "                  feature_samples_list.append(feature_vector_list[w])           # FEATURE SAMPLES\n",
        "              k +=1                                                             \n",
        "              file_content_string = \"\"\n",
        "              f.close()                                                         # CLOSE FILE\n",
        "        os.chdir(directory)                                                     # CHANGE DIRECTORY IN ORDER TO DO THE FOR LOOP\n",
        "    feature_samples = np.array(feature_samples_list)                            # TO NUMPY ARRAY\n",
        "    feature_samples_reshape = np.reshape(feature_samples, (-1, 60483))          # RESHAPE FOR DATAFRAME COMPATIBILITY\n",
        "    dataFrame = pd.DataFrame(data=feature_samples_reshape,                      # MAKE THE DATAFRAME\n",
        "                                           columns=feature_vector)  \n",
        "    label_list = list()                                                         # ADD TARGETS IN THE DATAFRAME\n",
        "    for i in range(0, k):\n",
        "        label_list.append(label)\n",
        "    dataFrame['Label'] = np.array(label_list)                                   # ADD LABELS LIST TO DATAFRAME\n",
        "    print(dataFrame)\n",
        "    return dataFrame\n",
        "\n",
        "def load_WSIData(folder):\n",
        "  image_size = (256,256)                                                        # SET IMAGE SIZE\n",
        "  batch_size = 32                                                               # SET BATCH SIZE\n",
        "  test_data = tf.keras.preprocessing.image_dataset_from_directory(\n",
        "    folder,                                                                     # FOLDER NAME\n",
        "    image_size=image_size)                                                      # IMAGE SIZE\n",
        "  return test_data\n",
        "\n",
        "def one_hot_encoding(dataset):\n",
        "  enc = LabelBinarizer()\n",
        "  labels = enc.fit_transform(dataset.class_names)\n",
        "  labels = to_categorical(labels)\n",
        "  dataset.class_names = labels\n",
        "\n",
        "def plot_training_parameter(history):\n",
        "  ax = plt.subplot(2, 1, 1)\n",
        "  plt.plot(history.history['binary_accuracy'])\n",
        "  plt.title('model accuracy')\n",
        "  plt.ylabel('accuracy')\n",
        "  plt.xlabel('epoch')\n",
        "  plt.legend(['train', 'test'], loc='lower right')\n",
        "  plt.grid()\n",
        "  plt.show()\n",
        "  ax = plt.subplot(2, 1, 2)\n",
        "  plt.plot(history.history['loss'])\n",
        "  plt.title('model loss') \n",
        "  plt.ylabel('loss')\n",
        "  plt.xlabel('epoch')\n",
        "  plt.legend(['train', 'test'], loc='upper right')\n",
        "  plt.grid()\n",
        "  plt.show()"
      ],
      "execution_count": 2,
      "outputs": []
    },
    {
      "cell_type": "markdown",
      "metadata": {
        "id": "ANV_xtloqZKW"
      },
      "source": [
        "# CONNECT WITH DRIVE"
      ]
    },
    {
      "cell_type": "code",
      "metadata": {
        "colab": {
          "base_uri": "https://localhost:8080/"
        },
        "id": "gazz25hxqd2U",
        "outputId": "5fb2377d-fb08-4fd4-cf01-7f648f8ef908"
      },
      "source": [
        "from google.colab import drive\n",
        "drive.mount('/content/drive')"
      ],
      "execution_count": 3,
      "outputs": [
        {
          "output_type": "stream",
          "text": [
            "Mounted at /content/drive\n"
          ],
          "name": "stdout"
        }
      ]
    },
    {
      "cell_type": "markdown",
      "metadata": {
        "id": "MZnTKQwEqiLl"
      },
      "source": [
        "# LOAD DATA"
      ]
    },
    {
      "cell_type": "code",
      "metadata": {
        "id": "qU7TJbfpq0Ma",
        "colab": {
          "base_uri": "https://localhost:8080/"
        },
        "outputId": "8a11ac73-e3dd-4f46-8ee9-9bdcd054191c"
      },
      "source": [
        "directory_tumoral = \"/content/drive/My Drive/Bioinfo/Tumoral/mRNA\"              # DIRECTORY TUMORAL\n",
        "directory_healthy = \"/content/drive/My Drive/Bioinfo/Healthy/mRNA\"              # DIRECTORY HEALTHY\n",
        "genomicsData_tumoral = load_GenomicsData(directory_tumoral,'Tumoral')           # DATAFRAME TUMORAL\n",
        "genomicsData_healthy = load_GenomicsData(directory_healthy,'Healthy')           # DATAFRAME HEALTHY"
      ],
      "execution_count": null,
      "outputs": [
        {
          "output_type": "stream",
          "text": [
            "Current Working Directory  /content/drive/My Drive/Bioinfo/Tumoral/mRNA\n",
            "Extracting data ...\n",
            "    ENSG00000242268.2 ENSG00000270112.3  ... ENSG00000181518.3    Label\n",
            "0                 0.0  0.00332936751564  ...   0.0127996796225  Tumoral\n",
            "1                 0.0               0.0  ...               0.0  Tumoral\n",
            "2                 0.0               0.0  ...               0.0  Tumoral\n",
            "3                 0.0               0.0  ...               0.0  Tumoral\n",
            "4                 0.0               0.0  ...               0.0  Tumoral\n",
            "..                ...               ...  ...               ...      ...\n",
            "636               0.0               0.0  ...               0.0  Tumoral\n",
            "637               0.0               0.0  ...               0.0  Tumoral\n",
            "638           45.4830            1.4699  ...            0.0000  Tumoral\n",
            "639           63.0026            0.9169  ...            0.0000  Tumoral\n",
            "640               0.0               0.0  ...               0.0  Tumoral\n",
            "\n",
            "[641 rows x 60484 columns]\n",
            "Current Working Directory  /content/drive/My Drive/Bioinfo/Healthy/mRNA\n",
            "Extracting data ...\n",
            "   ENSG00000242268.2 ENSG00000270112.3  ... ENSG00000181518.3    Label\n",
            "0                0.0               0.0  ...               0.0  Healthy\n",
            "1    0.0572334407712               0.0  ...               0.0  Healthy\n",
            "2                0.0  0.00341838826853  ...               0.0  Healthy\n",
            "3    0.0300138041529               0.0  ...               0.0  Healthy\n",
            "4                0.0               0.0  ...               0.0  Healthy\n",
            "5                0.0  0.00837813575384  ...               0.0  Healthy\n",
            "6                0.0  0.00836631053595  ...               0.0  Healthy\n",
            "7                0.0  0.00462241634033  ...               0.0  Healthy\n",
            "8                0.0  0.00332936751564  ...   0.0127996796225  Healthy\n",
            "9                0.0               0.0  ...   0.0421355961549  Healthy\n",
            "10               0.0               0.0  ...               0.0  Healthy\n",
            "11               0.0               0.0  ...   0.0121330312936  Healthy\n",
            "12   0.0322574696572  0.00895165270924  ...   0.0344144304382  Healthy\n",
            "13               0.0               0.0  ...               0.0  Healthy\n",
            "14               0.0               0.0  ...               0.0  Healthy\n",
            "15               0.0               0.0  ...               0.0  Healthy\n",
            "16   0.0277464653829  0.00769982037204  ...   0.0148008943816  Healthy\n",
            "17               0.0               0.0  ...               0.0  Healthy\n",
            "18               0.0               0.0  ...               0.0  Healthy\n",
            "19               0.0               0.0  ...               0.0  Healthy\n",
            "20               0.0               0.0  ...               0.0  Healthy\n",
            "21               0.0  0.00436107845617  ...   0.0335321389335  Healthy\n",
            "22               0.0               0.0  ...               0.0  Healthy\n",
            "23               0.0               0.0  ...   0.0387062397192  Healthy\n",
            "24               0.0  0.00350052147718  ...               0.0  Healthy\n",
            "25   0.0204305895524               0.0  ...   0.0108983610685  Healthy\n",
            "26   0.0322946231234               0.0  ...               0.0  Healthy\n",
            "27   0.0207181606252               0.0  ...   0.0331552833446  Healthy\n",
            "28   0.0208951468455               0.0  ...               0.0  Healthy\n",
            "29   0.0261262355972               0.0  ...               0.0  Healthy\n",
            "30   0.0265563224488  0.00736954814877  ...               0.0  Healthy\n",
            "31   0.0733214909936               0.0  ...               0.0  Healthy\n",
            "32               0.0               0.0  ...   0.0124101740032  Healthy\n",
            "33   0.0627244441539               0.0  ...   0.0167296601613  Healthy\n",
            "34               0.0  0.00276028286097  ...   0.0106118462807  Healthy\n",
            "35               0.0               0.0  ...               0.0  Healthy\n",
            "36               0.0               0.0  ...               0.0  Healthy\n",
            "37               0.0               0.0  ...               0.0  Healthy\n",
            "38               0.0  0.00375718850896  ...               0.0  Healthy\n",
            "39   0.0537711689336  0.00746092045003  ...               0.0  Healthy\n",
            "40               0.0               0.0  ...               0.0  Healthy\n",
            "41   0.0199004086279               0.0  ...   0.0106155447978  Healthy\n",
            "\n",
            "[42 rows x 60484 columns]\n"
          ],
          "name": "stdout"
        }
      ]
    },
    {
      "cell_type": "code",
      "metadata": {
        "colab": {
          "base_uri": "https://localhost:8080/"
        },
        "id": "T-jubhXTzyCx",
        "outputId": "59c19312-8b25-4037-df38-c69b62a9a0e5"
      },
      "source": [
        "os.chdir(\"/content/drive/My Drive/Bioinfo/DataSet\")                             # CHANGE DIRECTORY\n",
        "wsiData = load_WSIData('TestSet')                                               # LOAD TEST IMAGES \n",
        "print(\"######## DATA LOADED ##########\")"
      ],
      "execution_count": null,
      "outputs": [
        {
          "output_type": "stream",
          "text": [
            "Found 470 files belonging to 2 classes.\n",
            "######## DATA LOADED ##########\n"
          ],
          "name": "stdout"
        }
      ]
    },
    {
      "cell_type": "markdown",
      "metadata": {
        "id": "a4TRJL769dfc"
      },
      "source": [
        "# GENOMICS DATA AND MODEL"
      ]
    },
    {
      "cell_type": "markdown",
      "metadata": {
        "id": "VlZFr1Gzq0lE"
      },
      "source": [
        "## Genomics balance data healthy"
      ]
    },
    {
      "cell_type": "code",
      "metadata": {
        "colab": {
          "base_uri": "https://localhost:8080/"
        },
        "id": "T1A2Ojcnq3hj",
        "outputId": "29e1e55c-82fa-4e3f-c3ae-b93d2ff6b7c8"
      },
      "source": [
        "frame = [genomicsData_healthy,genomicsData_tumoral]                             # FRAME OF HEALTHY AND TUMORAL SAMPLES\n",
        "data = pd.concat(frame)                                                         # CONCATENATE THE FRAME\n",
        "sm = SMOTE(sampling_strategy='auto')                                            # SMOTE RESAMPLING STRATEGY\n",
        "features, labels = sm.fit_resample(data.drop('Label',1), data['Label'])         # RESAMPLE FEATURES(X) AND LABEL(Y) FROM DATAFRAME\n",
        "all_data = pd.DataFrame(features, columns=data.columns[:60483])                 # CONVERT FEATURES ARRAY TO DATAFRAME\n",
        "all_labels = pd.DataFrame(labels)                                               # CONVERT LABELS ARRAY TO DATAFRAME\n",
        "all_data['Label'] = all_labels                                                  # CONCATENATE FEATURES AND LABELS\n",
        "del features, labels, sm , all_labels                                           # FREE MEMORY\n",
        "print(all_data['Label'].value_counts())                                         # BALANCE COUNT\n",
        "labels = ['HEALTHY', 'TUMORAL']                                                 # FOR PLOTTING CONVINIENCE LATER ON\n",
        "print(all_data.head)"
      ],
      "execution_count": null,
      "outputs": [
        {
          "output_type": "stream",
          "text": [
            "/usr/local/lib/python3.6/dist-packages/sklearn/utils/deprecation.py:87: FutureWarning: Function safe_indexing is deprecated; safe_indexing is deprecated in version 0.22 and will be removed in version 0.24.\n",
            "  warnings.warn(msg, category=FutureWarning)\n"
          ],
          "name": "stderr"
        },
        {
          "output_type": "stream",
          "text": [
            "Tumoral    641\n",
            "Healthy    641\n",
            "Name: Label, dtype: int64\n",
            "<bound method NDFrame.head of       ENSG00000242268.2  ENSG00000270112.3  ...  ENSG00000181518.3    Label\n",
            "0              0.000000           0.000000  ...           0.000000  Healthy\n",
            "1              0.057233           0.000000  ...           0.000000  Healthy\n",
            "2              0.000000           0.003418  ...           0.000000  Healthy\n",
            "3              0.030014           0.000000  ...           0.000000  Healthy\n",
            "4              0.000000           0.000000  ...           0.000000  Healthy\n",
            "...                 ...                ...  ...                ...      ...\n",
            "1277           0.000325           0.003312  ...           0.012820  Healthy\n",
            "1278           0.000000           0.000000  ...           0.000853  Healthy\n",
            "1279           0.000000           0.004014  ...           0.033944  Healthy\n",
            "1280           0.013872           0.000000  ...           0.011159  Healthy\n",
            "1281           0.000000           0.002441  ...           0.012622  Healthy\n",
            "\n",
            "[1282 rows x 60484 columns]>\n"
          ],
          "name": "stdout"
        }
      ]
    },
    {
      "cell_type": "markdown",
      "metadata": {
        "id": "fwL06NVbBBOj"
      },
      "source": [
        "## PCA preprocessing, encode labels and train and test split"
      ]
    },
    {
      "cell_type": "code",
      "metadata": {
        "colab": {
          "base_uri": "https://localhost:8080/"
        },
        "id": "UI5tOiJ6BB4Q",
        "outputId": "a63f1c10-12ec-4f6a-ee5b-463654be6e81"
      },
      "source": [
        "label_encoder = LabelEncoder()\n",
        "encoded = label_encoder.fit_transform(all_data['Label'])                        # ENCODE THE LABELS COLUMN\n",
        "X_train, X_test, y_train, y_test = train_test_split(all_data.drop(['Label'],1), # TRAIN AND TEST SPLIT\n",
        "                                                    encoded,\n",
        "                                                    test_size=0.366,\n",
        "                                                    random_state=100)\n",
        "y_train = pd.DataFrame(y_train)                                                 # LABELS FROM NUMPY TO DATAFRAME\n",
        "y_test = pd.DataFrame(y_test)                                                   # LABELS FROM NUMPY TO DATAFRAME\n",
        "X_train = X_train.reset_index(drop=True)                                        # RESET INDEX\n",
        "y_train = y_train.reset_index(drop=True)                                        # RESET INDEX\n",
        "X_test = X_test.reset_index(drop=True)                                          # RESET INDEX\n",
        "y_test = y_test.reset_index(drop=True)                                          # RESET INDEX\n",
        "x_train = X_train.values                                                        # SELECT TRAIN FEATURES SAMPLES\n",
        "x_test = X_test.values                                                          # SELECT TEST FEATURES SAMPLES\n",
        "min_max_scaler = MinMaxScaler()                                                 # SELECT STANDARDIZATION FUNCTION\n",
        "x_train_scaled = min_max_scaler.fit_transform(x_train)                          # SCALE TRAIN DATA\n",
        "x_test_scaled = min_max_scaler.transform(x_test)                                # SCALE TEST DATA\n",
        "pca_3 = PCA(n_components=3)                                                     # SET 3 PCA COMPONENTS\n",
        "X_train_pca = pca_3.fit_transform(x_train_scaled)                               # FIT_TRANSFORM FOR TRAIN\n",
        "X_test_pca = pca_3.transform(x_test_scaled)                                     # TRANSFORM FOR TEST\n",
        "print(X_train_pca.shape)\n",
        "print(y_train.shape)\n",
        "print(X_test_pca.shape)\n",
        "print(y_test.shape)"
      ],
      "execution_count": null,
      "outputs": [
        {
          "output_type": "stream",
          "text": [
            "(812, 3)\n",
            "(812, 1)\n",
            "(470, 3)\n",
            "(470, 1)\n"
          ],
          "name": "stdout"
        }
      ]
    },
    {
      "cell_type": "markdown",
      "metadata": {
        "id": "lNG9Pp6oCaUe"
      },
      "source": [
        "## Genomics Model"
      ]
    },
    {
      "cell_type": "code",
      "metadata": {
        "colab": {
          "base_uri": "https://localhost:8080/"
        },
        "id": "6doiR5-ICcGk",
        "outputId": "2f2a70ef-3719-49d2-801c-e58bb26c8950"
      },
      "source": [
        "def MyModel(input_shape, num_classes, dropout, dense):\n",
        "    inputs = keras.Input(shape=input_shape)                                     # INPUT LAYER FOR INPUT SHAPE\n",
        "    x = layers.Dense(dense)(inputs)                                             # DENSE LAYER 512 UNITS\n",
        "    x = layers.Activation(\"relu\")(x)                                            # RELU ACTIVATION LAYER\n",
        "    x = layers.Dropout(dropout)(x,training=True)                                # DROPOUT LAYER\n",
        "    outputs = layers.Dense(1, activation='sigmoid')(x)                          # FINAL DENSE LAYER\n",
        "    return keras.Model(inputs, outputs)\n",
        "\n",
        "\n",
        "My_Genomics_model_4 = MyModel(input_shape=(3), num_classes=2,dropout=0.1,       # BUILD THE MODEL\n",
        "                            dense=4)                  \n",
        "My_Genomics_model_4.summary()\n",
        "\n",
        "My_Genomics_model_8 = MyModel(input_shape=(3), num_classes=2,dropout=0.1,       # BUILD THE MODEL\n",
        "                            dense=8)                  \n",
        "My_Genomics_model_8.summary()\n",
        "\n",
        "My_Genomics_model_16 = MyModel(input_shape=(3), num_classes=2,dropout=0.1,      # BUILD THE MODEL\n",
        "                            dense=16)                  \n",
        "My_Genomics_model_16.summary()\n",
        "\n",
        "My_Genomics_model_64 = MyModel(input_shape=(3), num_classes=2,dropout=0.1,      # BUILD THE MODEL\n",
        "                            dense=64)                  \n",
        "My_Genomics_model_64.summary()\n",
        "\n",
        "My_Genomics_model_128 = MyModel(input_shape=(3), num_classes=2,dropout=0.1,     # BUILD THE MODEL\n",
        "                            dense=128)                  \n",
        "My_Genomics_model_128.summary()\n"
      ],
      "execution_count": null,
      "outputs": [
        {
          "output_type": "stream",
          "text": [
            "Model: \"functional_309\"\n",
            "_________________________________________________________________\n",
            "Layer (type)                 Output Shape              Param #   \n",
            "=================================================================\n",
            "input_155 (InputLayer)       [(None, 3)]               0         \n",
            "_________________________________________________________________\n",
            "dense_308 (Dense)            (None, 4)                 16        \n",
            "_________________________________________________________________\n",
            "activation_154 (Activation)  (None, 4)                 0         \n",
            "_________________________________________________________________\n",
            "dropout_159 (Dropout)        (None, 4)                 0         \n",
            "_________________________________________________________________\n",
            "dense_309 (Dense)            (None, 1)                 5         \n",
            "=================================================================\n",
            "Total params: 21\n",
            "Trainable params: 21\n",
            "Non-trainable params: 0\n",
            "_________________________________________________________________\n",
            "Model: \"functional_311\"\n",
            "_________________________________________________________________\n",
            "Layer (type)                 Output Shape              Param #   \n",
            "=================================================================\n",
            "input_156 (InputLayer)       [(None, 3)]               0         \n",
            "_________________________________________________________________\n",
            "dense_310 (Dense)            (None, 8)                 32        \n",
            "_________________________________________________________________\n",
            "activation_155 (Activation)  (None, 8)                 0         \n",
            "_________________________________________________________________\n",
            "dropout_160 (Dropout)        (None, 8)                 0         \n",
            "_________________________________________________________________\n",
            "dense_311 (Dense)            (None, 1)                 9         \n",
            "=================================================================\n",
            "Total params: 41\n",
            "Trainable params: 41\n",
            "Non-trainable params: 0\n",
            "_________________________________________________________________\n",
            "Model: \"functional_313\"\n",
            "_________________________________________________________________\n",
            "Layer (type)                 Output Shape              Param #   \n",
            "=================================================================\n",
            "input_157 (InputLayer)       [(None, 3)]               0         \n",
            "_________________________________________________________________\n",
            "dense_312 (Dense)            (None, 16)                64        \n",
            "_________________________________________________________________\n",
            "activation_156 (Activation)  (None, 16)                0         \n",
            "_________________________________________________________________\n",
            "dropout_161 (Dropout)        (None, 16)                0         \n",
            "_________________________________________________________________\n",
            "dense_313 (Dense)            (None, 1)                 17        \n",
            "=================================================================\n",
            "Total params: 81\n",
            "Trainable params: 81\n",
            "Non-trainable params: 0\n",
            "_________________________________________________________________\n",
            "Model: \"functional_315\"\n",
            "_________________________________________________________________\n",
            "Layer (type)                 Output Shape              Param #   \n",
            "=================================================================\n",
            "input_158 (InputLayer)       [(None, 3)]               0         \n",
            "_________________________________________________________________\n",
            "dense_314 (Dense)            (None, 64)                256       \n",
            "_________________________________________________________________\n",
            "activation_157 (Activation)  (None, 64)                0         \n",
            "_________________________________________________________________\n",
            "dropout_162 (Dropout)        (None, 64)                0         \n",
            "_________________________________________________________________\n",
            "dense_315 (Dense)            (None, 1)                 65        \n",
            "=================================================================\n",
            "Total params: 321\n",
            "Trainable params: 321\n",
            "Non-trainable params: 0\n",
            "_________________________________________________________________\n",
            "Model: \"functional_317\"\n",
            "_________________________________________________________________\n",
            "Layer (type)                 Output Shape              Param #   \n",
            "=================================================================\n",
            "input_159 (InputLayer)       [(None, 3)]               0         \n",
            "_________________________________________________________________\n",
            "dense_316 (Dense)            (None, 128)               512       \n",
            "_________________________________________________________________\n",
            "activation_158 (Activation)  (None, 128)               0         \n",
            "_________________________________________________________________\n",
            "dropout_163 (Dropout)        (None, 128)               0         \n",
            "_________________________________________________________________\n",
            "dense_317 (Dense)            (None, 1)                 129       \n",
            "=================================================================\n",
            "Total params: 641\n",
            "Trainable params: 641\n",
            "Non-trainable params: 0\n",
            "_________________________________________________________________\n"
          ],
          "name": "stdout"
        }
      ]
    },
    {
      "cell_type": "markdown",
      "metadata": {
        "id": "S9-w_u94ClcS"
      },
      "source": [
        "## Fit and Evaluate Genomics Model"
      ]
    },
    {
      "cell_type": "code",
      "metadata": {
        "colab": {
          "base_uri": "https://localhost:8080/"
        },
        "id": "DY_Lp3X0sWl2",
        "outputId": "abde52ac-f7da-4132-ce0f-6ab2b3665c55"
      },
      "source": [
        "My_Genomics_model_4.compile(optimizer=keras.optimizers.Adam(learning_rate=0.0001),# ADAM OPTIMIZER\n",
        "                loss=keras.losses.BinaryCrossentropy(from_logits=True),         # LOSS = BINARY CROSSENTROPY\n",
        "                metrics=[keras.metrics.BinaryAccuracy(),                        # BINARY ACCURACY\n",
        "                        keras.metrics.FalsePositives(),\n",
        "                        keras.metrics.FalseNegatives(),\n",
        "                        keras.metrics.TruePositives(),\n",
        "                        keras.metrics.TrueNegatives(),\n",
        "                        keras.metrics.Precision(),\n",
        "                        keras.metrics.Recall(),])                         \n",
        "My_Genomics_model_4_history = My_Genomics_model_4.fit(X_train_pca,              # FIT THE MODEL\n",
        "                               y_train,\n",
        "                               epochs=60)     "
      ],
      "execution_count": null,
      "outputs": [
        {
          "output_type": "stream",
          "text": [
            "Epoch 1/60\n",
            "26/26 [==============================] - 0s 1ms/step - loss: 0.7646 - binary_accuracy: 0.3153 - false_positives_105: 332.0000 - false_negatives_105: 224.0000 - true_positives_105: 181.0000 - true_negatives_105: 75.0000 - precision_105: 0.3528 - recall_105: 0.4469\n",
            "Epoch 2/60\n",
            "26/26 [==============================] - 0s 1ms/step - loss: 0.7594 - binary_accuracy: 0.3239 - false_positives_105: 331.0000 - false_negatives_105: 218.0000 - true_positives_105: 187.0000 - true_negatives_105: 76.0000 - precision_105: 0.3610 - recall_105: 0.4617\n",
            "Epoch 3/60\n",
            "26/26 [==============================] - 0s 1ms/step - loss: 0.7579 - binary_accuracy: 0.3190 - false_positives_105: 342.0000 - false_negatives_105: 211.0000 - true_positives_105: 194.0000 - true_negatives_105: 65.0000 - precision_105: 0.3619 - recall_105: 0.4790\n",
            "Epoch 4/60\n",
            "26/26 [==============================] - 0s 1ms/step - loss: 0.7584 - binary_accuracy: 0.3005 - false_positives_105: 345.0000 - false_negatives_105: 223.0000 - true_positives_105: 182.0000 - true_negatives_105: 62.0000 - precision_105: 0.3454 - recall_105: 0.4494\n",
            "Epoch 5/60\n",
            "26/26 [==============================] - 0s 1ms/step - loss: 0.7570 - binary_accuracy: 0.3190 - false_positives_105: 316.0000 - false_negatives_105: 237.0000 - true_positives_105: 168.0000 - true_negatives_105: 91.0000 - precision_105: 0.3471 - recall_105: 0.4148\n",
            "Epoch 6/60\n",
            "26/26 [==============================] - 0s 1ms/step - loss: 0.7522 - binary_accuracy: 0.3202 - false_positives_105: 341.0000 - false_negatives_105: 211.0000 - true_positives_105: 194.0000 - true_negatives_105: 66.0000 - precision_105: 0.3626 - recall_105: 0.4790\n",
            "Epoch 7/60\n",
            "26/26 [==============================] - 0s 1ms/step - loss: 0.7550 - binary_accuracy: 0.3091 - false_positives_105: 339.0000 - false_negatives_105: 222.0000 - true_positives_105: 183.0000 - true_negatives_105: 68.0000 - precision_105: 0.3506 - recall_105: 0.4519\n",
            "Epoch 8/60\n",
            "26/26 [==============================] - 0s 1ms/step - loss: 0.7491 - binary_accuracy: 0.3424 - false_positives_105: 332.0000 - false_negatives_105: 202.0000 - true_positives_105: 203.0000 - true_negatives_105: 75.0000 - precision_105: 0.3794 - recall_105: 0.5012\n",
            "Epoch 9/60\n",
            "26/26 [==============================] - 0s 1ms/step - loss: 0.7484 - binary_accuracy: 0.3350 - false_positives_105: 328.0000 - false_negatives_105: 212.0000 - true_positives_105: 193.0000 - true_negatives_105: 79.0000 - precision_105: 0.3704 - recall_105: 0.4765\n",
            "Epoch 10/60\n",
            "26/26 [==============================] - 0s 1ms/step - loss: 0.7457 - binary_accuracy: 0.3387 - false_positives_105: 338.0000 - false_negatives_105: 199.0000 - true_positives_105: 206.0000 - true_negatives_105: 69.0000 - precision_105: 0.3787 - recall_105: 0.5086\n",
            "Epoch 11/60\n",
            "26/26 [==============================] - 0s 1ms/step - loss: 0.7443 - binary_accuracy: 0.3485 - false_positives_105: 331.0000 - false_negatives_105: 198.0000 - true_positives_105: 207.0000 - true_negatives_105: 76.0000 - precision_105: 0.3848 - recall_105: 0.5111\n",
            "Epoch 12/60\n",
            "26/26 [==============================] - 0s 1ms/step - loss: 0.7424 - binary_accuracy: 0.3374 - false_positives_105: 328.0000 - false_negatives_105: 210.0000 - true_positives_105: 195.0000 - true_negatives_105: 79.0000 - precision_105: 0.3728 - recall_105: 0.4815\n",
            "Epoch 13/60\n",
            "26/26 [==============================] - 0s 1ms/step - loss: 0.7402 - binary_accuracy: 0.3350 - false_positives_105: 336.0000 - false_negatives_105: 204.0000 - true_positives_105: 201.0000 - true_negatives_105: 71.0000 - precision_105: 0.3743 - recall_105: 0.4963\n",
            "Epoch 14/60\n",
            "26/26 [==============================] - 0s 1ms/step - loss: 0.7393 - binary_accuracy: 0.3707 - false_positives_105: 307.0000 - false_negatives_105: 204.0000 - true_positives_105: 201.0000 - true_negatives_105: 100.0000 - precision_105: 0.3957 - recall_105: 0.4963\n",
            "Epoch 15/60\n",
            "26/26 [==============================] - 0s 1ms/step - loss: 0.7353 - binary_accuracy: 0.3633 - false_positives_105: 317.0000 - false_negatives_105: 200.0000 - true_positives_105: 205.0000 - true_negatives_105: 90.0000 - precision_105: 0.3927 - recall_105: 0.5062\n",
            "Epoch 16/60\n",
            "26/26 [==============================] - 0s 1ms/step - loss: 0.7324 - binary_accuracy: 0.3707 - false_positives_105: 320.0000 - false_negatives_105: 191.0000 - true_positives_105: 214.0000 - true_negatives_105: 87.0000 - precision_105: 0.4007 - recall_105: 0.5284\n",
            "Epoch 17/60\n",
            "26/26 [==============================] - 0s 1ms/step - loss: 0.7363 - binary_accuracy: 0.3387 - false_positives_105: 334.0000 - false_negatives_105: 203.0000 - true_positives_105: 202.0000 - true_negatives_105: 73.0000 - precision_105: 0.3769 - recall_105: 0.4988\n",
            "Epoch 18/60\n",
            "26/26 [==============================] - 0s 2ms/step - loss: 0.7315 - binary_accuracy: 0.3707 - false_positives_105: 315.0000 - false_negatives_105: 196.0000 - true_positives_105: 209.0000 - true_negatives_105: 92.0000 - precision_105: 0.3989 - recall_105: 0.5160\n",
            "Epoch 19/60\n",
            "26/26 [==============================] - 0s 1ms/step - loss: 0.7282 - binary_accuracy: 0.3818 - false_positives_105: 311.0000 - false_negatives_105: 191.0000 - true_positives_105: 214.0000 - true_negatives_105: 96.0000 - precision_105: 0.4076 - recall_105: 0.5284\n",
            "Epoch 20/60\n",
            "26/26 [==============================] - 0s 1ms/step - loss: 0.7249 - binary_accuracy: 0.3879 - false_positives_105: 314.0000 - false_negatives_105: 183.0000 - true_positives_105: 222.0000 - true_negatives_105: 93.0000 - precision_105: 0.4142 - recall_105: 0.5481\n",
            "Epoch 21/60\n",
            "26/26 [==============================] - 0s 1ms/step - loss: 0.7223 - binary_accuracy: 0.3867 - false_positives_105: 311.0000 - false_negatives_105: 187.0000 - true_positives_105: 218.0000 - true_negatives_105: 96.0000 - precision_105: 0.4121 - recall_105: 0.5383\n",
            "Epoch 22/60\n",
            "26/26 [==============================] - 0s 1ms/step - loss: 0.7231 - binary_accuracy: 0.4261 - false_positives_105: 272.0000 - false_negatives_105: 194.0000 - true_positives_105: 211.0000 - true_negatives_105: 135.0000 - precision_105: 0.4369 - recall_105: 0.5210\n",
            "Epoch 23/60\n",
            "26/26 [==============================] - 0s 1ms/step - loss: 0.7213 - binary_accuracy: 0.4877 - false_positives_105: 228.0000 - false_negatives_105: 188.0000 - true_positives_105: 217.0000 - true_negatives_105: 179.0000 - precision_105: 0.4876 - recall_105: 0.5358\n",
            "Epoch 24/60\n",
            "26/26 [==============================] - 0s 1ms/step - loss: 0.7204 - binary_accuracy: 0.5320 - false_positives_105: 187.0000 - false_negatives_105: 193.0000 - true_positives_105: 212.0000 - true_negatives_105: 220.0000 - precision_105: 0.5313 - recall_105: 0.5235\n",
            "Epoch 25/60\n",
            "26/26 [==============================] - 0s 1ms/step - loss: 0.7144 - binary_accuracy: 0.6244 - false_positives_105: 122.0000 - false_negatives_105: 183.0000 - true_positives_105: 222.0000 - true_negatives_105: 285.0000 - precision_105: 0.6453 - recall_105: 0.5481\n",
            "Epoch 26/60\n",
            "26/26 [==============================] - 0s 1ms/step - loss: 0.7156 - binary_accuracy: 0.6441 - false_positives_105: 115.0000 - false_negatives_105: 174.0000 - true_positives_105: 231.0000 - true_negatives_105: 292.0000 - precision_105: 0.6676 - recall_105: 0.5704\n",
            "Epoch 27/60\n",
            "26/26 [==============================] - 0s 1ms/step - loss: 0.7114 - binary_accuracy: 0.6810 - false_positives_105: 90.0000 - false_negatives_105: 169.0000 - true_positives_105: 236.0000 - true_negatives_105: 317.0000 - precision_105: 0.7239 - recall_105: 0.5827\n",
            "Epoch 28/60\n",
            "26/26 [==============================] - 0s 1ms/step - loss: 0.7096 - binary_accuracy: 0.6860 - false_positives_105: 86.0000 - false_negatives_105: 169.0000 - true_positives_105: 236.0000 - true_negatives_105: 321.0000 - precision_105: 0.7329 - recall_105: 0.5827\n",
            "Epoch 29/60\n",
            "26/26 [==============================] - 0s 1ms/step - loss: 0.7090 - binary_accuracy: 0.6897 - false_positives_105: 89.0000 - false_negatives_105: 163.0000 - true_positives_105: 242.0000 - true_negatives_105: 318.0000 - precision_105: 0.7311 - recall_105: 0.5975\n",
            "Epoch 30/60\n",
            "26/26 [==============================] - 0s 1ms/step - loss: 0.7063 - binary_accuracy: 0.7131 - false_positives_105: 73.0000 - false_negatives_105: 160.0000 - true_positives_105: 245.0000 - true_negatives_105: 334.0000 - precision_105: 0.7704 - recall_105: 0.6049\n",
            "Epoch 31/60\n",
            "26/26 [==============================] - 0s 1ms/step - loss: 0.7049 - binary_accuracy: 0.7229 - false_positives_105: 68.0000 - false_negatives_105: 157.0000 - true_positives_105: 248.0000 - true_negatives_105: 339.0000 - precision_105: 0.7848 - recall_105: 0.6123\n",
            "Epoch 32/60\n",
            "26/26 [==============================] - 0s 1ms/step - loss: 0.6978 - binary_accuracy: 0.7389 - false_positives_105: 76.0000 - false_negatives_105: 136.0000 - true_positives_105: 269.0000 - true_negatives_105: 331.0000 - precision_105: 0.7797 - recall_105: 0.6642\n",
            "Epoch 33/60\n",
            "26/26 [==============================] - 0s 1ms/step - loss: 0.6981 - binary_accuracy: 0.7401 - false_positives_105: 73.0000 - false_negatives_105: 138.0000 - true_positives_105: 267.0000 - true_negatives_105: 334.0000 - precision_105: 0.7853 - recall_105: 0.6593\n",
            "Epoch 34/60\n",
            "26/26 [==============================] - 0s 1ms/step - loss: 0.6978 - binary_accuracy: 0.7291 - false_positives_105: 81.0000 - false_negatives_105: 139.0000 - true_positives_105: 266.0000 - true_negatives_105: 326.0000 - precision_105: 0.7666 - recall_105: 0.6568\n",
            "Epoch 35/60\n",
            "26/26 [==============================] - 0s 1ms/step - loss: 0.6975 - binary_accuracy: 0.7389 - false_positives_105: 69.0000 - false_negatives_105: 143.0000 - true_positives_105: 262.0000 - true_negatives_105: 338.0000 - precision_105: 0.7915 - recall_105: 0.6469\n",
            "Epoch 36/60\n",
            "26/26 [==============================] - 0s 1ms/step - loss: 0.6958 - binary_accuracy: 0.7278 - false_positives_105: 78.0000 - false_negatives_105: 143.0000 - true_positives_105: 262.0000 - true_negatives_105: 329.0000 - precision_105: 0.7706 - recall_105: 0.6469\n",
            "Epoch 37/60\n",
            "26/26 [==============================] - 0s 1ms/step - loss: 0.6912 - binary_accuracy: 0.7574 - false_positives_105: 57.0000 - false_negatives_105: 140.0000 - true_positives_105: 265.0000 - true_negatives_105: 350.0000 - precision_105: 0.8230 - recall_105: 0.6543\n",
            "Epoch 38/60\n",
            "26/26 [==============================] - 0s 2ms/step - loss: 0.6919 - binary_accuracy: 0.7537 - false_positives_105: 58.0000 - false_negatives_105: 142.0000 - true_positives_105: 263.0000 - true_negatives_105: 349.0000 - precision_105: 0.8193 - recall_105: 0.6494\n",
            "Epoch 39/60\n",
            "26/26 [==============================] - 0s 1ms/step - loss: 0.6929 - binary_accuracy: 0.7377 - false_positives_105: 64.0000 - false_negatives_105: 149.0000 - true_positives_105: 256.0000 - true_negatives_105: 343.0000 - precision_105: 0.8000 - recall_105: 0.6321\n",
            "Epoch 40/60\n",
            "26/26 [==============================] - 0s 1ms/step - loss: 0.6937 - binary_accuracy: 0.7254 - false_positives_105: 72.0000 - false_negatives_105: 151.0000 - true_positives_105: 254.0000 - true_negatives_105: 335.0000 - precision_105: 0.7791 - recall_105: 0.6272\n",
            "Epoch 41/60\n",
            "26/26 [==============================] - 0s 1ms/step - loss: 0.6889 - binary_accuracy: 0.7488 - false_positives_105: 60.0000 - false_negatives_105: 144.0000 - true_positives_105: 261.0000 - true_negatives_105: 347.0000 - precision_105: 0.8131 - recall_105: 0.6444\n",
            "Epoch 42/60\n",
            "26/26 [==============================] - 0s 1ms/step - loss: 0.6898 - binary_accuracy: 0.7414 - false_positives_105: 70.0000 - false_negatives_105: 140.0000 - true_positives_105: 265.0000 - true_negatives_105: 337.0000 - precision_105: 0.7910 - recall_105: 0.6543\n",
            "Epoch 43/60\n",
            "26/26 [==============================] - 0s 1ms/step - loss: 0.6865 - binary_accuracy: 0.7697 - false_positives_105: 55.0000 - false_negatives_105: 132.0000 - true_positives_105: 273.0000 - true_negatives_105: 352.0000 - precision_105: 0.8323 - recall_105: 0.6741\n",
            "Epoch 44/60\n",
            "26/26 [==============================] - 0s 1ms/step - loss: 0.6881 - binary_accuracy: 0.7549 - false_positives_105: 57.0000 - false_negatives_105: 142.0000 - true_positives_105: 263.0000 - true_negatives_105: 350.0000 - precision_105: 0.8219 - recall_105: 0.6494\n",
            "Epoch 45/60\n",
            "26/26 [==============================] - 0s 1ms/step - loss: 0.6849 - binary_accuracy: 0.7709 - false_positives_105: 56.0000 - false_negatives_105: 130.0000 - true_positives_105: 275.0000 - true_negatives_105: 351.0000 - precision_105: 0.8308 - recall_105: 0.6790\n",
            "Epoch 46/60\n",
            "26/26 [==============================] - 0s 1ms/step - loss: 0.6824 - binary_accuracy: 0.7820 - false_positives_105: 48.0000 - false_negatives_105: 129.0000 - true_positives_105: 276.0000 - true_negatives_105: 359.0000 - precision_105: 0.8519 - recall_105: 0.6815\n",
            "Epoch 47/60\n",
            "26/26 [==============================] - 0s 1ms/step - loss: 0.6799 - binary_accuracy: 0.8017 - false_positives_105: 39.0000 - false_negatives_105: 122.0000 - true_positives_105: 283.0000 - true_negatives_105: 368.0000 - precision_105: 0.8789 - recall_105: 0.6988\n",
            "Epoch 48/60\n",
            "26/26 [==============================] - 0s 1ms/step - loss: 0.6831 - binary_accuracy: 0.7709 - false_positives_105: 50.0000 - false_negatives_105: 136.0000 - true_positives_105: 269.0000 - true_negatives_105: 357.0000 - precision_105: 0.8433 - recall_105: 0.6642\n",
            "Epoch 49/60\n",
            "26/26 [==============================] - 0s 1ms/step - loss: 0.6833 - binary_accuracy: 0.7709 - false_positives_105: 50.0000 - false_negatives_105: 136.0000 - true_positives_105: 269.0000 - true_negatives_105: 357.0000 - precision_105: 0.8433 - recall_105: 0.6642\n",
            "Epoch 50/60\n",
            "26/26 [==============================] - 0s 1ms/step - loss: 0.6767 - binary_accuracy: 0.7968 - false_positives_105: 37.0000 - false_negatives_105: 128.0000 - true_positives_105: 277.0000 - true_negatives_105: 370.0000 - precision_105: 0.8822 - recall_105: 0.6840\n",
            "Epoch 51/60\n",
            "26/26 [==============================] - 0s 1ms/step - loss: 0.6780 - binary_accuracy: 0.7833 - false_positives_105: 41.0000 - false_negatives_105: 135.0000 - true_positives_105: 270.0000 - true_negatives_105: 366.0000 - precision_105: 0.8682 - recall_105: 0.6667\n",
            "Epoch 52/60\n",
            "26/26 [==============================] - 0s 2ms/step - loss: 0.6783 - binary_accuracy: 0.7894 - false_positives_105: 40.0000 - false_negatives_105: 131.0000 - true_positives_105: 274.0000 - true_negatives_105: 367.0000 - precision_105: 0.8726 - recall_105: 0.6765\n",
            "Epoch 53/60\n",
            "26/26 [==============================] - 0s 1ms/step - loss: 0.6769 - binary_accuracy: 0.7931 - false_positives_105: 32.0000 - false_negatives_105: 136.0000 - true_positives_105: 269.0000 - true_negatives_105: 375.0000 - precision_105: 0.8937 - recall_105: 0.6642\n",
            "Epoch 54/60\n",
            "26/26 [==============================] - 0s 1ms/step - loss: 0.6709 - binary_accuracy: 0.8177 - false_positives_105: 33.0000 - false_negatives_105: 115.0000 - true_positives_105: 290.0000 - true_negatives_105: 374.0000 - precision_105: 0.8978 - recall_105: 0.7160\n",
            "Epoch 55/60\n",
            "26/26 [==============================] - 0s 1ms/step - loss: 0.6754 - binary_accuracy: 0.7968 - false_positives_105: 24.0000 - false_negatives_105: 141.0000 - true_positives_105: 264.0000 - true_negatives_105: 383.0000 - precision_105: 0.9167 - recall_105: 0.6519\n",
            "Epoch 56/60\n",
            "26/26 [==============================] - 0s 2ms/step - loss: 0.6727 - binary_accuracy: 0.8153 - false_positives_105: 20.0000 - false_negatives_105: 130.0000 - true_positives_105: 275.0000 - true_negatives_105: 387.0000 - precision_105: 0.9322 - recall_105: 0.6790\n",
            "Epoch 57/60\n",
            "26/26 [==============================] - 0s 1ms/step - loss: 0.6735 - binary_accuracy: 0.8079 - false_positives_105: 25.0000 - false_negatives_105: 131.0000 - true_positives_105: 274.0000 - true_negatives_105: 382.0000 - precision_105: 0.9164 - recall_105: 0.6765\n",
            "Epoch 58/60\n",
            "26/26 [==============================] - 0s 2ms/step - loss: 0.6692 - binary_accuracy: 0.8337 - false_positives_105: 17.0000 - false_negatives_105: 118.0000 - true_positives_105: 287.0000 - true_negatives_105: 390.0000 - precision_105: 0.9441 - recall_105: 0.7086\n",
            "Epoch 59/60\n",
            "26/26 [==============================] - 0s 1ms/step - loss: 0.6720 - binary_accuracy: 0.8079 - false_positives_105: 21.0000 - false_negatives_105: 135.0000 - true_positives_105: 270.0000 - true_negatives_105: 386.0000 - precision_105: 0.9278 - recall_105: 0.6667\n",
            "Epoch 60/60\n",
            "26/26 [==============================] - 0s 1ms/step - loss: 0.6638 - binary_accuracy: 0.8325 - false_positives_105: 20.0000 - false_negatives_105: 116.0000 - true_positives_105: 289.0000 - true_negatives_105: 387.0000 - precision_105: 0.9353 - recall_105: 0.7136\n"
          ],
          "name": "stdout"
        }
      ]
    },
    {
      "cell_type": "code",
      "metadata": {
        "colab": {
          "base_uri": "https://localhost:8080/"
        },
        "id": "LvInJ0dLdr5E",
        "outputId": "5190deec-b0c9-4252-9421-5194970804e3"
      },
      "source": [
        "My_Genomics_model_8.compile(optimizer=keras.optimizers.Adam(learning_rate=0.0001),# ADAM OPTIMIZER\n",
        "                loss=keras.losses.BinaryCrossentropy(from_logits=True),         # LOSS = BINARY CROSSENTROPY\n",
        "                metrics=[keras.metrics.BinaryAccuracy(),                        # BINARY ACCURACY\n",
        "                        keras.metrics.FalsePositives(),\n",
        "                        keras.metrics.FalseNegatives(),\n",
        "                        keras.metrics.TruePositives(),\n",
        "                        keras.metrics.TrueNegatives(),\n",
        "                        keras.metrics.Precision(),\n",
        "                        keras.metrics.Recall(),])                         \n",
        "My_Genomics_model_8_history = My_Genomics_model_8.fit(X_train_pca,              # FIT THE MODEL\n",
        "                               y_train,\n",
        "                               epochs=50)     "
      ],
      "execution_count": null,
      "outputs": [
        {
          "output_type": "stream",
          "text": [
            "Epoch 1/50\n",
            "26/26 [==============================] - 0s 1ms/step - loss: 0.8713 - binary_accuracy: 0.2007 - false_positives_106: 394.0000 - false_negatives_106: 255.0000 - true_positives_106: 150.0000 - true_negatives_106: 13.0000 - precision_106: 0.2757 - recall_106: 0.3704\n",
            "Epoch 2/50\n",
            "26/26 [==============================] - 0s 1ms/step - loss: 0.8711 - binary_accuracy: 0.1897 - false_positives_106: 398.0000 - false_negatives_106: 260.0000 - true_positives_106: 145.0000 - true_negatives_106: 9.0000 - precision_106: 0.2670 - recall_106: 0.3580\n",
            "Epoch 3/50\n",
            "26/26 [==============================] - 0s 1ms/step - loss: 0.8703 - binary_accuracy: 0.1921 - false_positives_106: 394.0000 - false_negatives_106: 262.0000 - true_positives_106: 143.0000 - true_negatives_106: 13.0000 - precision_106: 0.2663 - recall_106: 0.3531\n",
            "Epoch 4/50\n",
            "26/26 [==============================] - 0s 1ms/step - loss: 0.8607 - binary_accuracy: 0.2204 - false_positives_106: 394.0000 - false_negatives_106: 239.0000 - true_positives_106: 166.0000 - true_negatives_106: 13.0000 - precision_106: 0.2964 - recall_106: 0.4099\n",
            "Epoch 5/50\n",
            "26/26 [==============================] - 0s 1ms/step - loss: 0.8544 - binary_accuracy: 0.2291 - false_positives_106: 391.0000 - false_negatives_106: 235.0000 - true_positives_106: 170.0000 - true_negatives_106: 16.0000 - precision_106: 0.3030 - recall_106: 0.4198\n",
            "Epoch 6/50\n",
            "26/26 [==============================] - 0s 1ms/step - loss: 0.8569 - binary_accuracy: 0.1983 - false_positives_106: 383.0000 - false_negatives_106: 268.0000 - true_positives_106: 137.0000 - true_negatives_106: 24.0000 - precision_106: 0.2635 - recall_106: 0.3383\n",
            "Epoch 7/50\n",
            "26/26 [==============================] - 0s 1ms/step - loss: 0.8516 - binary_accuracy: 0.1933 - false_positives_106: 390.0000 - false_negatives_106: 265.0000 - true_positives_106: 140.0000 - true_negatives_106: 17.0000 - precision_106: 0.2642 - recall_106: 0.3457\n",
            "Epoch 8/50\n",
            "26/26 [==============================] - 0s 1ms/step - loss: 0.8458 - binary_accuracy: 0.2254 - false_positives_106: 384.0000 - false_negatives_106: 245.0000 - true_positives_106: 160.0000 - true_negatives_106: 23.0000 - precision_106: 0.2941 - recall_106: 0.3951\n",
            "Epoch 9/50\n",
            "26/26 [==============================] - 0s 1ms/step - loss: 0.8430 - binary_accuracy: 0.2254 - false_positives_106: 379.0000 - false_negatives_106: 250.0000 - true_positives_106: 155.0000 - true_negatives_106: 28.0000 - precision_106: 0.2903 - recall_106: 0.3827\n",
            "Epoch 10/50\n",
            "26/26 [==============================] - 0s 1ms/step - loss: 0.8342 - binary_accuracy: 0.2352 - false_positives_106: 373.0000 - false_negatives_106: 248.0000 - true_positives_106: 157.0000 - true_negatives_106: 34.0000 - precision_106: 0.2962 - recall_106: 0.3877\n",
            "Epoch 11/50\n",
            "26/26 [==============================] - 0s 1ms/step - loss: 0.8250 - binary_accuracy: 0.2488 - false_positives_106: 383.0000 - false_negatives_106: 227.0000 - true_positives_106: 178.0000 - true_negatives_106: 24.0000 - precision_106: 0.3173 - recall_106: 0.4395\n",
            "Epoch 12/50\n",
            "26/26 [==============================] - 0s 1ms/step - loss: 0.8252 - binary_accuracy: 0.2340 - false_positives_106: 374.0000 - false_negatives_106: 248.0000 - true_positives_106: 157.0000 - true_negatives_106: 33.0000 - precision_106: 0.2957 - recall_106: 0.3877\n",
            "Epoch 13/50\n",
            "26/26 [==============================] - 0s 1ms/step - loss: 0.8157 - binary_accuracy: 0.2475 - false_positives_106: 375.0000 - false_negatives_106: 236.0000 - true_positives_106: 169.0000 - true_negatives_106: 32.0000 - precision_106: 0.3107 - recall_106: 0.4173\n",
            "Epoch 14/50\n",
            "26/26 [==============================] - 0s 1ms/step - loss: 0.8061 - binary_accuracy: 0.2746 - false_positives_106: 363.0000 - false_negatives_106: 226.0000 - true_positives_106: 179.0000 - true_negatives_106: 44.0000 - precision_106: 0.3303 - recall_106: 0.4420\n",
            "Epoch 15/50\n",
            "26/26 [==============================] - 0s 2ms/step - loss: 0.8020 - binary_accuracy: 0.2906 - false_positives_106: 363.0000 - false_negatives_106: 213.0000 - true_positives_106: 192.0000 - true_negatives_106: 44.0000 - precision_106: 0.3459 - recall_106: 0.4741\n",
            "Epoch 16/50\n",
            "26/26 [==============================] - 0s 1ms/step - loss: 0.7930 - binary_accuracy: 0.2956 - false_positives_106: 351.0000 - false_negatives_106: 221.0000 - true_positives_106: 184.0000 - true_negatives_106: 56.0000 - precision_106: 0.3439 - recall_106: 0.4543\n",
            "Epoch 17/50\n",
            "26/26 [==============================] - 0s 1ms/step - loss: 0.7868 - binary_accuracy: 0.3042 - false_positives_106: 359.0000 - false_negatives_106: 206.0000 - true_positives_106: 199.0000 - true_negatives_106: 48.0000 - precision_106: 0.3566 - recall_106: 0.4914\n",
            "Epoch 18/50\n",
            "26/26 [==============================] - 0s 1ms/step - loss: 0.7811 - binary_accuracy: 0.2968 - false_positives_106: 359.0000 - false_negatives_106: 212.0000 - true_positives_106: 193.0000 - true_negatives_106: 48.0000 - precision_106: 0.3496 - recall_106: 0.4765\n",
            "Epoch 19/50\n",
            "26/26 [==============================] - 0s 1ms/step - loss: 0.7673 - binary_accuracy: 0.3608 - false_positives_106: 333.0000 - false_negatives_106: 186.0000 - true_positives_106: 219.0000 - true_negatives_106: 74.0000 - precision_106: 0.3967 - recall_106: 0.5407\n",
            "Epoch 20/50\n",
            "26/26 [==============================] - 0s 1ms/step - loss: 0.7548 - binary_accuracy: 0.3879 - false_positives_106: 304.0000 - false_negatives_106: 193.0000 - true_positives_106: 212.0000 - true_negatives_106: 103.0000 - precision_106: 0.4109 - recall_106: 0.5235\n",
            "Epoch 21/50\n",
            "26/26 [==============================] - 0s 1ms/step - loss: 0.7628 - binary_accuracy: 0.3670 - false_positives_106: 324.0000 - false_negatives_106: 190.0000 - true_positives_106: 215.0000 - true_negatives_106: 83.0000 - precision_106: 0.3989 - recall_106: 0.5309\n",
            "Epoch 22/50\n",
            "26/26 [==============================] - 0s 1ms/step - loss: 0.7424 - binary_accuracy: 0.4433 - false_positives_106: 294.0000 - false_negatives_106: 158.0000 - true_positives_106: 247.0000 - true_negatives_106: 113.0000 - precision_106: 0.4566 - recall_106: 0.6099\n",
            "Epoch 23/50\n",
            "26/26 [==============================] - 0s 1ms/step - loss: 0.7351 - binary_accuracy: 0.4988 - false_positives_106: 259.0000 - false_negatives_106: 148.0000 - true_positives_106: 257.0000 - true_negatives_106: 148.0000 - precision_106: 0.4981 - recall_106: 0.6346\n",
            "Epoch 24/50\n",
            "26/26 [==============================] - 0s 1ms/step - loss: 0.7263 - binary_accuracy: 0.5603 - false_positives_106: 225.0000 - false_negatives_106: 132.0000 - true_positives_106: 273.0000 - true_negatives_106: 182.0000 - precision_106: 0.5482 - recall_106: 0.6741\n",
            "Epoch 25/50\n",
            "26/26 [==============================] - 0s 1ms/step - loss: 0.7193 - binary_accuracy: 0.5998 - false_positives_106: 200.0000 - false_negatives_106: 125.0000 - true_positives_106: 280.0000 - true_negatives_106: 207.0000 - precision_106: 0.5833 - recall_106: 0.6914\n",
            "Epoch 26/50\n",
            "26/26 [==============================] - 0s 1ms/step - loss: 0.7156 - binary_accuracy: 0.5998 - false_positives_106: 212.0000 - false_negatives_106: 113.0000 - true_positives_106: 292.0000 - true_negatives_106: 195.0000 - precision_106: 0.5794 - recall_106: 0.7210\n",
            "Epoch 27/50\n",
            "26/26 [==============================] - 0s 1ms/step - loss: 0.7107 - binary_accuracy: 0.6305 - false_positives_106: 206.0000 - false_negatives_106: 94.0000 - true_positives_106: 311.0000 - true_negatives_106: 201.0000 - precision_106: 0.6015 - recall_106: 0.7679\n",
            "Epoch 28/50\n",
            "26/26 [==============================] - 0s 1ms/step - loss: 0.7047 - binary_accuracy: 0.6453 - false_positives_106: 187.0000 - false_negatives_106: 101.0000 - true_positives_106: 304.0000 - true_negatives_106: 220.0000 - precision_106: 0.6191 - recall_106: 0.7506\n",
            "Epoch 29/50\n",
            "26/26 [==============================] - 0s 1ms/step - loss: 0.6938 - binary_accuracy: 0.6786 - false_positives_106: 163.0000 - false_negatives_106: 98.0000 - true_positives_106: 307.0000 - true_negatives_106: 244.0000 - precision_106: 0.6532 - recall_106: 0.7580\n",
            "Epoch 30/50\n",
            "26/26 [==============================] - 0s 1ms/step - loss: 0.6931 - binary_accuracy: 0.6650 - false_positives_106: 176.0000 - false_negatives_106: 96.0000 - true_positives_106: 309.0000 - true_negatives_106: 231.0000 - precision_106: 0.6371 - recall_106: 0.7630\n",
            "Epoch 31/50\n",
            "26/26 [==============================] - 0s 1ms/step - loss: 0.6856 - binary_accuracy: 0.6983 - false_positives_106: 144.0000 - false_negatives_106: 101.0000 - true_positives_106: 304.0000 - true_negatives_106: 263.0000 - precision_106: 0.6786 - recall_106: 0.7506\n",
            "Epoch 32/50\n",
            "26/26 [==============================] - 0s 1ms/step - loss: 0.6845 - binary_accuracy: 0.7032 - false_positives_106: 142.0000 - false_negatives_106: 99.0000 - true_positives_106: 306.0000 - true_negatives_106: 265.0000 - precision_106: 0.6830 - recall_106: 0.7556\n",
            "Epoch 33/50\n",
            "26/26 [==============================] - 0s 2ms/step - loss: 0.6808 - binary_accuracy: 0.7143 - false_positives_106: 132.0000 - false_negatives_106: 100.0000 - true_positives_106: 305.0000 - true_negatives_106: 275.0000 - precision_106: 0.6979 - recall_106: 0.7531\n",
            "Epoch 34/50\n",
            "26/26 [==============================] - 0s 1ms/step - loss: 0.6670 - binary_accuracy: 0.7475 - false_positives_106: 115.0000 - false_negatives_106: 90.0000 - true_positives_106: 315.0000 - true_negatives_106: 292.0000 - precision_106: 0.7326 - recall_106: 0.7778\n",
            "Epoch 35/50\n",
            "26/26 [==============================] - 0s 1ms/step - loss: 0.6647 - binary_accuracy: 0.7586 - false_positives_106: 102.0000 - false_negatives_106: 94.0000 - true_positives_106: 311.0000 - true_negatives_106: 305.0000 - precision_106: 0.7530 - recall_106: 0.7679\n",
            "Epoch 36/50\n",
            "26/26 [==============================] - 0s 1ms/step - loss: 0.6593 - binary_accuracy: 0.7549 - false_positives_106: 109.0000 - false_negatives_106: 90.0000 - true_positives_106: 315.0000 - true_negatives_106: 298.0000 - precision_106: 0.7429 - recall_106: 0.7778\n",
            "Epoch 37/50\n",
            "26/26 [==============================] - 0s 1ms/step - loss: 0.6604 - binary_accuracy: 0.7426 - false_positives_106: 110.0000 - false_negatives_106: 99.0000 - true_positives_106: 306.0000 - true_negatives_106: 297.0000 - precision_106: 0.7356 - recall_106: 0.7556\n",
            "Epoch 38/50\n",
            "26/26 [==============================] - 0s 2ms/step - loss: 0.6532 - binary_accuracy: 0.7672 - false_positives_106: 96.0000 - false_negatives_106: 93.0000 - true_positives_106: 312.0000 - true_negatives_106: 311.0000 - precision_106: 0.7647 - recall_106: 0.7704\n",
            "Epoch 39/50\n",
            "26/26 [==============================] - 0s 1ms/step - loss: 0.6490 - binary_accuracy: 0.7709 - false_positives_106: 94.0000 - false_negatives_106: 92.0000 - true_positives_106: 313.0000 - true_negatives_106: 313.0000 - precision_106: 0.7690 - recall_106: 0.7728\n",
            "Epoch 40/50\n",
            "26/26 [==============================] - 0s 1ms/step - loss: 0.6414 - binary_accuracy: 0.7980 - false_positives_106: 79.0000 - false_negatives_106: 85.0000 - true_positives_106: 320.0000 - true_negatives_106: 328.0000 - precision_106: 0.8020 - recall_106: 0.7901\n",
            "Epoch 41/50\n",
            "26/26 [==============================] - 0s 1ms/step - loss: 0.6422 - binary_accuracy: 0.7697 - false_positives_106: 98.0000 - false_negatives_106: 89.0000 - true_positives_106: 316.0000 - true_negatives_106: 309.0000 - precision_106: 0.7633 - recall_106: 0.7802\n",
            "Epoch 42/50\n",
            "26/26 [==============================] - 0s 2ms/step - loss: 0.6406 - binary_accuracy: 0.7771 - false_positives_106: 96.0000 - false_negatives_106: 85.0000 - true_positives_106: 320.0000 - true_negatives_106: 311.0000 - precision_106: 0.7692 - recall_106: 0.7901\n",
            "Epoch 43/50\n",
            "26/26 [==============================] - 0s 2ms/step - loss: 0.6433 - binary_accuracy: 0.7623 - false_positives_106: 79.0000 - false_negatives_106: 114.0000 - true_positives_106: 291.0000 - true_negatives_106: 328.0000 - precision_106: 0.7865 - recall_106: 0.7185\n",
            "Epoch 44/50\n",
            "26/26 [==============================] - 0s 1ms/step - loss: 0.6272 - binary_accuracy: 0.8116 - false_positives_106: 69.0000 - false_negatives_106: 84.0000 - true_positives_106: 321.0000 - true_negatives_106: 338.0000 - precision_106: 0.8231 - recall_106: 0.7926\n",
            "Epoch 45/50\n",
            "26/26 [==============================] - 0s 1ms/step - loss: 0.6333 - binary_accuracy: 0.7771 - false_positives_106: 97.0000 - false_negatives_106: 84.0000 - true_positives_106: 321.0000 - true_negatives_106: 310.0000 - precision_106: 0.7679 - recall_106: 0.7926\n",
            "Epoch 46/50\n",
            "26/26 [==============================] - 0s 1ms/step - loss: 0.6291 - binary_accuracy: 0.7931 - false_positives_106: 84.0000 - false_negatives_106: 84.0000 - true_positives_106: 321.0000 - true_negatives_106: 323.0000 - precision_106: 0.7926 - recall_106: 0.7926\n",
            "Epoch 47/50\n",
            "26/26 [==============================] - 0s 1ms/step - loss: 0.6275 - binary_accuracy: 0.7968 - false_positives_106: 77.0000 - false_negatives_106: 88.0000 - true_positives_106: 317.0000 - true_negatives_106: 330.0000 - precision_106: 0.8046 - recall_106: 0.7827\n",
            "Epoch 48/50\n",
            "26/26 [==============================] - 0s 1ms/step - loss: 0.6258 - binary_accuracy: 0.8042 - false_positives_106: 74.0000 - false_negatives_106: 85.0000 - true_positives_106: 320.0000 - true_negatives_106: 333.0000 - precision_106: 0.8122 - recall_106: 0.7901\n",
            "Epoch 49/50\n",
            "26/26 [==============================] - 0s 1ms/step - loss: 0.6269 - binary_accuracy: 0.7882 - false_positives_106: 77.0000 - false_negatives_106: 95.0000 - true_positives_106: 310.0000 - true_negatives_106: 330.0000 - precision_106: 0.8010 - recall_106: 0.7654\n",
            "Epoch 50/50\n",
            "26/26 [==============================] - 0s 2ms/step - loss: 0.6152 - binary_accuracy: 0.8264 - false_positives_106: 58.0000 - false_negatives_106: 83.0000 - true_positives_106: 322.0000 - true_negatives_106: 349.0000 - precision_106: 0.8474 - recall_106: 0.7951\n"
          ],
          "name": "stdout"
        }
      ]
    },
    {
      "cell_type": "code",
      "metadata": {
        "colab": {
          "base_uri": "https://localhost:8080/"
        },
        "id": "iBEky9ctdtMy",
        "outputId": "e666e46a-192e-4301-84b7-c64fb60aa195"
      },
      "source": [
        "My_Genomics_model_16.compile(optimizer=keras.optimizers.Adam(learning_rate=0.0001),# ADAM OPTIMIZER\n",
        "                loss=keras.losses.BinaryCrossentropy(from_logits=True),         # LOSS = BINARY CROSSENTROPY\n",
        "                metrics=[keras.metrics.BinaryAccuracy(),                        # BINARY ACCURACY\n",
        "                        keras.metrics.FalsePositives(),\n",
        "                        keras.metrics.FalseNegatives(),\n",
        "                        keras.metrics.TruePositives(),\n",
        "                        keras.metrics.TrueNegatives(),\n",
        "                        keras.metrics.Precision(),\n",
        "                        keras.metrics.Recall(),])                         \n",
        "My_Genomics_model_16_history = My_Genomics_model_16.fit(X_train_pca,            # FIT THE MODEL\n",
        "                               y_train,\n",
        "                               epochs=40)     "
      ],
      "execution_count": null,
      "outputs": [
        {
          "output_type": "stream",
          "text": [
            "Epoch 1/40\n",
            "26/26 [==============================] - 0s 1ms/step - loss: 0.8555 - binary_accuracy: 0.2931 - false_positives_107: 404.0000 - false_negatives_107: 170.0000 - true_positives_107: 235.0000 - true_negatives_107: 3.0000 - precision_107: 0.3678 - recall_107: 0.5802\n",
            "Epoch 2/40\n",
            "26/26 [==============================] - 0s 1ms/step - loss: 0.8538 - binary_accuracy: 0.2980 - false_positives_107: 402.0000 - false_negatives_107: 168.0000 - true_positives_107: 237.0000 - true_negatives_107: 5.0000 - precision_107: 0.3709 - recall_107: 0.5852\n",
            "Epoch 3/40\n",
            "26/26 [==============================] - 0s 1ms/step - loss: 0.8463 - binary_accuracy: 0.3202 - false_positives_107: 403.0000 - false_negatives_107: 149.0000 - true_positives_107: 256.0000 - true_negatives_107: 4.0000 - precision_107: 0.3885 - recall_107: 0.6321\n",
            "Epoch 4/40\n",
            "26/26 [==============================] - 0s 1ms/step - loss: 0.8407 - binary_accuracy: 0.3461 - false_positives_107: 400.0000 - false_negatives_107: 131.0000 - true_positives_107: 274.0000 - true_negatives_107: 7.0000 - precision_107: 0.4065 - recall_107: 0.6765\n",
            "Epoch 5/40\n",
            "26/26 [==============================] - 0s 1ms/step - loss: 0.8360 - binary_accuracy: 0.3621 - false_positives_107: 391.0000 - false_negatives_107: 127.0000 - true_positives_107: 278.0000 - true_negatives_107: 16.0000 - precision_107: 0.4155 - recall_107: 0.6864\n",
            "Epoch 6/40\n",
            "26/26 [==============================] - 0s 1ms/step - loss: 0.8248 - binary_accuracy: 0.4200 - false_positives_107: 393.0000 - false_negatives_107: 78.0000 - true_positives_107: 327.0000 - true_negatives_107: 14.0000 - precision_107: 0.4542 - recall_107: 0.8074\n",
            "Epoch 7/40\n",
            "26/26 [==============================] - 0s 1ms/step - loss: 0.8247 - binary_accuracy: 0.4163 - false_positives_107: 392.0000 - false_negatives_107: 82.0000 - true_positives_107: 323.0000 - true_negatives_107: 15.0000 - precision_107: 0.4517 - recall_107: 0.7975\n",
            "Epoch 8/40\n",
            "26/26 [==============================] - 0s 1ms/step - loss: 0.8221 - binary_accuracy: 0.4224 - false_positives_107: 398.0000 - false_negatives_107: 71.0000 - true_positives_107: 334.0000 - true_negatives_107: 9.0000 - precision_107: 0.4563 - recall_107: 0.8247\n",
            "Epoch 9/40\n",
            "26/26 [==============================] - 0s 1ms/step - loss: 0.8132 - binary_accuracy: 0.4594 - false_positives_107: 384.0000 - false_negatives_107: 55.0000 - true_positives_107: 350.0000 - true_negatives_107: 23.0000 - precision_107: 0.4768 - recall_107: 0.8642\n",
            "Epoch 10/40\n",
            "26/26 [==============================] - 0s 1ms/step - loss: 0.8001 - binary_accuracy: 0.4704 - false_positives_107: 375.0000 - false_negatives_107: 55.0000 - true_positives_107: 350.0000 - true_negatives_107: 32.0000 - precision_107: 0.4828 - recall_107: 0.8642\n",
            "Epoch 11/40\n",
            "26/26 [==============================] - 0s 1ms/step - loss: 0.7932 - binary_accuracy: 0.4815 - false_positives_107: 375.0000 - false_negatives_107: 46.0000 - true_positives_107: 359.0000 - true_negatives_107: 32.0000 - precision_107: 0.4891 - recall_107: 0.8864\n",
            "Epoch 12/40\n",
            "26/26 [==============================] - 0s 1ms/step - loss: 0.7898 - binary_accuracy: 0.4914 - false_positives_107: 368.0000 - false_negatives_107: 45.0000 - true_positives_107: 360.0000 - true_negatives_107: 39.0000 - precision_107: 0.4945 - recall_107: 0.8889\n",
            "Epoch 13/40\n",
            "26/26 [==============================] - 0s 1ms/step - loss: 0.7771 - binary_accuracy: 0.5025 - false_positives_107: 354.0000 - false_negatives_107: 50.0000 - true_positives_107: 355.0000 - true_negatives_107: 53.0000 - precision_107: 0.5007 - recall_107: 0.8765\n",
            "Epoch 14/40\n",
            "26/26 [==============================] - 0s 1ms/step - loss: 0.7737 - binary_accuracy: 0.5086 - false_positives_107: 357.0000 - false_negatives_107: 42.0000 - true_positives_107: 363.0000 - true_negatives_107: 50.0000 - precision_107: 0.5042 - recall_107: 0.8963\n",
            "Epoch 15/40\n",
            "26/26 [==============================] - 0s 1ms/step - loss: 0.7581 - binary_accuracy: 0.5025 - false_positives_107: 351.0000 - false_negatives_107: 53.0000 - true_positives_107: 352.0000 - true_negatives_107: 56.0000 - precision_107: 0.5007 - recall_107: 0.8691\n",
            "Epoch 16/40\n",
            "26/26 [==============================] - 0s 1ms/step - loss: 0.7517 - binary_accuracy: 0.5172 - false_positives_107: 339.0000 - false_negatives_107: 53.0000 - true_positives_107: 352.0000 - true_negatives_107: 68.0000 - precision_107: 0.5094 - recall_107: 0.8691\n",
            "Epoch 17/40\n",
            "26/26 [==============================] - 0s 1ms/step - loss: 0.7365 - binary_accuracy: 0.5406 - false_positives_107: 337.0000 - false_negatives_107: 36.0000 - true_positives_107: 369.0000 - true_negatives_107: 70.0000 - precision_107: 0.5227 - recall_107: 0.9111\n",
            "Epoch 18/40\n",
            "26/26 [==============================] - 0s 1ms/step - loss: 0.7143 - binary_accuracy: 0.5800 - false_positives_107: 295.0000 - false_negatives_107: 46.0000 - true_positives_107: 359.0000 - true_negatives_107: 112.0000 - precision_107: 0.5489 - recall_107: 0.8864\n",
            "Epoch 19/40\n",
            "26/26 [==============================] - 0s 1ms/step - loss: 0.7045 - binary_accuracy: 0.5998 - false_positives_107: 285.0000 - false_negatives_107: 40.0000 - true_positives_107: 365.0000 - true_negatives_107: 122.0000 - precision_107: 0.5615 - recall_107: 0.9012\n",
            "Epoch 20/40\n",
            "26/26 [==============================] - 0s 1ms/step - loss: 0.6953 - binary_accuracy: 0.6305 - false_positives_107: 261.0000 - false_negatives_107: 39.0000 - true_positives_107: 366.0000 - true_negatives_107: 146.0000 - precision_107: 0.5837 - recall_107: 0.9037\n",
            "Epoch 21/40\n",
            "26/26 [==============================] - 0s 1ms/step - loss: 0.6836 - binary_accuracy: 0.6847 - false_positives_107: 215.0000 - false_negatives_107: 41.0000 - true_positives_107: 364.0000 - true_negatives_107: 192.0000 - precision_107: 0.6287 - recall_107: 0.8988\n",
            "Epoch 22/40\n",
            "26/26 [==============================] - 0s 1ms/step - loss: 0.6696 - binary_accuracy: 0.7414 - false_positives_107: 176.0000 - false_negatives_107: 34.0000 - true_positives_107: 371.0000 - true_negatives_107: 231.0000 - precision_107: 0.6782 - recall_107: 0.9160\n",
            "Epoch 23/40\n",
            "26/26 [==============================] - 0s 2ms/step - loss: 0.6647 - binary_accuracy: 0.7648 - false_positives_107: 142.0000 - false_negatives_107: 49.0000 - true_positives_107: 356.0000 - true_negatives_107: 265.0000 - precision_107: 0.7149 - recall_107: 0.8790\n",
            "Epoch 24/40\n",
            "26/26 [==============================] - 0s 1ms/step - loss: 0.6582 - binary_accuracy: 0.7845 - false_positives_107: 137.0000 - false_negatives_107: 38.0000 - true_positives_107: 367.0000 - true_negatives_107: 270.0000 - precision_107: 0.7282 - recall_107: 0.9062\n",
            "Epoch 25/40\n",
            "26/26 [==============================] - 0s 1ms/step - loss: 0.6444 - binary_accuracy: 0.8116 - false_positives_107: 114.0000 - false_negatives_107: 39.0000 - true_positives_107: 366.0000 - true_negatives_107: 293.0000 - precision_107: 0.7625 - recall_107: 0.9037\n",
            "Epoch 26/40\n",
            "26/26 [==============================] - 0s 2ms/step - loss: 0.6327 - binary_accuracy: 0.8411 - false_positives_107: 92.0000 - false_negatives_107: 37.0000 - true_positives_107: 368.0000 - true_negatives_107: 315.0000 - precision_107: 0.8000 - recall_107: 0.9086\n",
            "Epoch 27/40\n",
            "26/26 [==============================] - 0s 1ms/step - loss: 0.6307 - binary_accuracy: 0.8300 - false_positives_107: 100.0000 - false_negatives_107: 38.0000 - true_positives_107: 367.0000 - true_negatives_107: 307.0000 - precision_107: 0.7859 - recall_107: 0.9062\n",
            "Epoch 28/40\n",
            "26/26 [==============================] - 0s 1ms/step - loss: 0.6215 - binary_accuracy: 0.8362 - false_positives_107: 88.0000 - false_negatives_107: 45.0000 - true_positives_107: 360.0000 - true_negatives_107: 319.0000 - precision_107: 0.8036 - recall_107: 0.8889\n",
            "Epoch 29/40\n",
            "26/26 [==============================] - 0s 1ms/step - loss: 0.6135 - binary_accuracy: 0.8522 - false_positives_107: 81.0000 - false_negatives_107: 39.0000 - true_positives_107: 366.0000 - true_negatives_107: 326.0000 - precision_107: 0.8188 - recall_107: 0.9037\n",
            "Epoch 30/40\n",
            "26/26 [==============================] - 0s 1ms/step - loss: 0.6062 - binary_accuracy: 0.8719 - false_positives_107: 74.0000 - false_negatives_107: 30.0000 - true_positives_107: 375.0000 - true_negatives_107: 333.0000 - precision_107: 0.8352 - recall_107: 0.9259\n",
            "Epoch 31/40\n",
            "26/26 [==============================] - 0s 1ms/step - loss: 0.6038 - binary_accuracy: 0.8670 - false_positives_107: 78.0000 - false_negatives_107: 30.0000 - true_positives_107: 375.0000 - true_negatives_107: 329.0000 - precision_107: 0.8278 - recall_107: 0.9259\n",
            "Epoch 32/40\n",
            "26/26 [==============================] - 0s 1ms/step - loss: 0.5982 - binary_accuracy: 0.8658 - false_positives_107: 68.0000 - false_negatives_107: 41.0000 - true_positives_107: 364.0000 - true_negatives_107: 339.0000 - precision_107: 0.8426 - recall_107: 0.8988\n",
            "Epoch 33/40\n",
            "26/26 [==============================] - 0s 1ms/step - loss: 0.5986 - binary_accuracy: 0.8633 - false_positives_107: 77.0000 - false_negatives_107: 34.0000 - true_positives_107: 371.0000 - true_negatives_107: 330.0000 - precision_107: 0.8281 - recall_107: 0.9160\n",
            "Epoch 34/40\n",
            "26/26 [==============================] - 0s 1ms/step - loss: 0.5945 - binary_accuracy: 0.8547 - false_positives_107: 74.0000 - false_negatives_107: 44.0000 - true_positives_107: 361.0000 - true_negatives_107: 333.0000 - precision_107: 0.8299 - recall_107: 0.8914\n",
            "Epoch 35/40\n",
            "26/26 [==============================] - 0s 1ms/step - loss: 0.5861 - binary_accuracy: 0.8842 - false_positives_107: 54.0000 - false_negatives_107: 40.0000 - true_positives_107: 365.0000 - true_negatives_107: 353.0000 - precision_107: 0.8711 - recall_107: 0.9012\n",
            "Epoch 36/40\n",
            "26/26 [==============================] - 0s 1ms/step - loss: 0.5900 - binary_accuracy: 0.8695 - false_positives_107: 64.0000 - false_negatives_107: 42.0000 - true_positives_107: 363.0000 - true_negatives_107: 343.0000 - precision_107: 0.8501 - recall_107: 0.8963\n",
            "Epoch 37/40\n",
            "26/26 [==============================] - 0s 1ms/step - loss: 0.5788 - binary_accuracy: 0.8916 - false_positives_107: 57.0000 - false_negatives_107: 31.0000 - true_positives_107: 374.0000 - true_negatives_107: 350.0000 - precision_107: 0.8677 - recall_107: 0.9235\n",
            "Epoch 38/40\n",
            "26/26 [==============================] - 0s 1ms/step - loss: 0.5839 - binary_accuracy: 0.8793 - false_positives_107: 56.0000 - false_negatives_107: 42.0000 - true_positives_107: 363.0000 - true_negatives_107: 351.0000 - precision_107: 0.8663 - recall_107: 0.8963\n",
            "Epoch 39/40\n",
            "26/26 [==============================] - 0s 1ms/step - loss: 0.5745 - binary_accuracy: 0.9039 - false_positives_107: 35.0000 - false_negatives_107: 43.0000 - true_positives_107: 362.0000 - true_negatives_107: 372.0000 - precision_107: 0.9118 - recall_107: 0.8938\n",
            "Epoch 40/40\n",
            "26/26 [==============================] - 0s 1ms/step - loss: 0.5733 - binary_accuracy: 0.8941 - false_positives_107: 52.0000 - false_negatives_107: 34.0000 - true_positives_107: 371.0000 - true_negatives_107: 355.0000 - precision_107: 0.8771 - recall_107: 0.9160\n"
          ],
          "name": "stdout"
        }
      ]
    },
    {
      "cell_type": "code",
      "metadata": {
        "colab": {
          "base_uri": "https://localhost:8080/"
        },
        "id": "gq8MJuQudt30",
        "outputId": "40fed741-ecc4-464f-fad2-89ee06c682a6"
      },
      "source": [
        "My_Genomics_model_64.compile(optimizer=keras.optimizers.Adam(learning_rate=0.0001),# ADAM OPTIMIZER\n",
        "                loss=keras.losses.BinaryCrossentropy(from_logits=True),         # LOSS = BINARY CROSSENTROPY\n",
        "                metrics=[keras.metrics.BinaryAccuracy(),                        # BINARY ACCURACY\n",
        "                        keras.metrics.FalsePositives(),\n",
        "                        keras.metrics.FalseNegatives(),\n",
        "                        keras.metrics.TruePositives(),\n",
        "                        keras.metrics.TrueNegatives(),\n",
        "                        keras.metrics.Precision(),\n",
        "                        keras.metrics.Recall(),])                         \n",
        "My_Genomics_model_64_history = My_Genomics_model_64.fit(X_train_pca,            # FIT THE MODEL\n",
        "                               y_train,\n",
        "                               epochs=20)     "
      ],
      "execution_count": null,
      "outputs": [
        {
          "output_type": "stream",
          "text": [
            "Epoch 1/20\n",
            "26/26 [==============================] - 0s 1ms/step - loss: 0.6743 - binary_accuracy: 0.7254 - false_positives_108: 38.0000 - false_negatives_108: 185.0000 - true_positives_108: 220.0000 - true_negatives_108: 369.0000 - precision_108: 0.8527 - recall_108: 0.5432\n",
            "Epoch 2/20\n",
            "26/26 [==============================] - 0s 1ms/step - loss: 0.6558 - binary_accuracy: 0.7759 - false_positives_108: 29.0000 - false_negatives_108: 153.0000 - true_positives_108: 252.0000 - true_negatives_108: 378.0000 - precision_108: 0.8968 - recall_108: 0.6222\n",
            "Epoch 3/20\n",
            "26/26 [==============================] - 0s 1ms/step - loss: 0.6469 - binary_accuracy: 0.7845 - false_positives_108: 27.0000 - false_negatives_108: 148.0000 - true_positives_108: 257.0000 - true_negatives_108: 380.0000 - precision_108: 0.9049 - recall_108: 0.6346\n",
            "Epoch 4/20\n",
            "26/26 [==============================] - 0s 1ms/step - loss: 0.6300 - binary_accuracy: 0.8227 - false_positives_108: 17.0000 - false_negatives_108: 127.0000 - true_positives_108: 278.0000 - true_negatives_108: 390.0000 - precision_108: 0.9424 - recall_108: 0.6864\n",
            "Epoch 5/20\n",
            "26/26 [==============================] - 0s 1ms/step - loss: 0.6218 - binary_accuracy: 0.8313 - false_positives_108: 11.0000 - false_negatives_108: 126.0000 - true_positives_108: 279.0000 - true_negatives_108: 396.0000 - precision_108: 0.9621 - recall_108: 0.6889\n",
            "Epoch 6/20\n",
            "26/26 [==============================] - 0s 1ms/step - loss: 0.6120 - binary_accuracy: 0.8436 - false_positives_108: 6.0000 - false_negatives_108: 121.0000 - true_positives_108: 284.0000 - true_negatives_108: 401.0000 - precision_108: 0.9793 - recall_108: 0.7012\n",
            "Epoch 7/20\n",
            "26/26 [==============================] - 0s 1ms/step - loss: 0.6060 - binary_accuracy: 0.8498 - false_positives_108: 6.0000 - false_negatives_108: 116.0000 - true_positives_108: 289.0000 - true_negatives_108: 401.0000 - precision_108: 0.9797 - recall_108: 0.7136\n",
            "Epoch 8/20\n",
            "26/26 [==============================] - 0s 1ms/step - loss: 0.5961 - binary_accuracy: 0.8633 - false_positives_108: 2.0000 - false_negatives_108: 109.0000 - true_positives_108: 296.0000 - true_negatives_108: 405.0000 - precision_108: 0.9933 - recall_108: 0.7309\n",
            "Epoch 9/20\n",
            "26/26 [==============================] - 0s 1ms/step - loss: 0.5912 - binary_accuracy: 0.8596 - false_positives_108: 1.0000 - false_negatives_108: 113.0000 - true_positives_108: 292.0000 - true_negatives_108: 406.0000 - precision_108: 0.9966 - recall_108: 0.7210\n",
            "Epoch 10/20\n",
            "26/26 [==============================] - 0s 1ms/step - loss: 0.5887 - binary_accuracy: 0.8633 - false_positives_108: 2.0000 - false_negatives_108: 109.0000 - true_positives_108: 296.0000 - true_negatives_108: 405.0000 - precision_108: 0.9933 - recall_108: 0.7309\n",
            "Epoch 11/20\n",
            "26/26 [==============================] - 0s 2ms/step - loss: 0.5853 - binary_accuracy: 0.8608 - false_positives_108: 2.0000 - false_negatives_108: 111.0000 - true_positives_108: 294.0000 - true_negatives_108: 405.0000 - precision_108: 0.9932 - recall_108: 0.7259\n",
            "Epoch 12/20\n",
            "26/26 [==============================] - 0s 1ms/step - loss: 0.5824 - binary_accuracy: 0.8658 - false_positives_108: 1.0000 - false_negatives_108: 108.0000 - true_positives_108: 297.0000 - true_negatives_108: 406.0000 - precision_108: 0.9966 - recall_108: 0.7333\n",
            "Epoch 13/20\n",
            "26/26 [==============================] - 0s 2ms/step - loss: 0.5773 - binary_accuracy: 0.8682 - false_positives_108: 0.0000e+00 - false_negatives_108: 107.0000 - true_positives_108: 298.0000 - true_negatives_108: 407.0000 - precision_108: 1.0000 - recall_108: 0.7358\n",
            "Epoch 14/20\n",
            "26/26 [==============================] - 0s 1ms/step - loss: 0.5739 - binary_accuracy: 0.8695 - false_positives_108: 1.0000 - false_negatives_108: 105.0000 - true_positives_108: 300.0000 - true_negatives_108: 406.0000 - precision_108: 0.9967 - recall_108: 0.7407\n",
            "Epoch 15/20\n",
            "26/26 [==============================] - 0s 2ms/step - loss: 0.5707 - binary_accuracy: 0.8768 - false_positives_108: 0.0000e+00 - false_negatives_108: 100.0000 - true_positives_108: 305.0000 - true_negatives_108: 407.0000 - precision_108: 1.0000 - recall_108: 0.7531\n",
            "Epoch 16/20\n",
            "26/26 [==============================] - 0s 2ms/step - loss: 0.5664 - binary_accuracy: 0.8842 - false_positives_108: 0.0000e+00 - false_negatives_108: 94.0000 - true_positives_108: 311.0000 - true_negatives_108: 407.0000 - precision_108: 1.0000 - recall_108: 0.7679\n",
            "Epoch 17/20\n",
            "26/26 [==============================] - 0s 2ms/step - loss: 0.5610 - binary_accuracy: 0.8978 - false_positives_108: 0.0000e+00 - false_negatives_108: 83.0000 - true_positives_108: 322.0000 - true_negatives_108: 407.0000 - precision_108: 1.0000 - recall_108: 0.7951\n",
            "Epoch 18/20\n",
            "26/26 [==============================] - 0s 2ms/step - loss: 0.5570 - binary_accuracy: 0.9052 - false_positives_108: 0.0000e+00 - false_negatives_108: 77.0000 - true_positives_108: 328.0000 - true_negatives_108: 407.0000 - precision_108: 1.0000 - recall_108: 0.8099\n",
            "Epoch 19/20\n",
            "26/26 [==============================] - 0s 2ms/step - loss: 0.5458 - binary_accuracy: 0.9286 - false_positives_108: 0.0000e+00 - false_negatives_108: 58.0000 - true_positives_108: 347.0000 - true_negatives_108: 407.0000 - precision_108: 1.0000 - recall_108: 0.8568\n",
            "Epoch 20/20\n",
            "26/26 [==============================] - 0s 1ms/step - loss: 0.5450 - binary_accuracy: 0.9310 - false_positives_108: 0.0000e+00 - false_negatives_108: 56.0000 - true_positives_108: 349.0000 - true_negatives_108: 407.0000 - precision_108: 1.0000 - recall_108: 0.8617\n"
          ],
          "name": "stdout"
        }
      ]
    },
    {
      "cell_type": "code",
      "metadata": {
        "colab": {
          "base_uri": "https://localhost:8080/"
        },
        "id": "kkMa0gcG3jtq",
        "outputId": "4a752959-90a7-43f7-f4d2-c7d5e69b49c4"
      },
      "source": [
        "My_Genomics_model_128.compile(optimizer=keras.optimizers.Adam(learning_rate=0.0001),# ADAM OPTIMIZER\n",
        "                loss=keras.losses.BinaryCrossentropy(from_logits=True),         # LOSS = BINARY CROSSENTROPY\n",
        "                metrics=[keras.metrics.BinaryAccuracy(),                        # BINARY ACCURACY\n",
        "                        keras.metrics.FalsePositives(),\n",
        "                        keras.metrics.FalseNegatives(),\n",
        "                        keras.metrics.TruePositives(),\n",
        "                        keras.metrics.TrueNegatives(),\n",
        "                        keras.metrics.Precision(),\n",
        "                        keras.metrics.Recall(),])                         \n",
        "My_Genomics_model_128_history = My_Genomics_model_128.fit(X_train_pca,          # FIT THE MODEL\n",
        "                               y_train,\n",
        "                               epochs=10)     \n"
      ],
      "execution_count": null,
      "outputs": [
        {
          "output_type": "stream",
          "text": [
            "Epoch 1/10\n",
            "26/26 [==============================] - 0s 1ms/step - loss: 0.7307 - binary_accuracy: 0.5259 - false_positives_109: 274.0000 - false_negatives_109: 111.0000 - true_positives_109: 294.0000 - true_negatives_109: 133.0000 - precision_109: 0.5176 - recall_109: 0.7259\n",
            "Epoch 2/10\n",
            "26/26 [==============================] - 0s 1ms/step - loss: 0.7001 - binary_accuracy: 0.6970 - false_positives_109: 172.0000 - false_negatives_109: 74.0000 - true_positives_109: 331.0000 - true_negatives_109: 235.0000 - precision_109: 0.6581 - recall_109: 0.8173\n",
            "Epoch 3/10\n",
            "26/26 [==============================] - 0s 1ms/step - loss: 0.6697 - binary_accuracy: 0.8177 - false_positives_109: 86.0000 - false_negatives_109: 62.0000 - true_positives_109: 343.0000 - true_negatives_109: 321.0000 - precision_109: 0.7995 - recall_109: 0.8469\n",
            "Epoch 4/10\n",
            "26/26 [==============================] - 0s 1ms/step - loss: 0.6467 - binary_accuracy: 0.8732 - false_positives_109: 57.0000 - false_negatives_109: 46.0000 - true_positives_109: 359.0000 - true_negatives_109: 350.0000 - precision_109: 0.8630 - recall_109: 0.8864\n",
            "Epoch 5/10\n",
            "26/26 [==============================] - 0s 1ms/step - loss: 0.6233 - binary_accuracy: 0.9249 - false_positives_109: 23.0000 - false_negatives_109: 38.0000 - true_positives_109: 367.0000 - true_negatives_109: 384.0000 - precision_109: 0.9410 - recall_109: 0.9062\n",
            "Epoch 6/10\n",
            "26/26 [==============================] - 0s 1ms/step - loss: 0.6075 - binary_accuracy: 0.9421 - false_positives_109: 2.0000 - false_negatives_109: 45.0000 - true_positives_109: 360.0000 - true_negatives_109: 405.0000 - precision_109: 0.9945 - recall_109: 0.8889\n",
            "Epoch 7/10\n",
            "26/26 [==============================] - 0s 1ms/step - loss: 0.5948 - binary_accuracy: 0.9495 - false_positives_109: 3.0000 - false_negatives_109: 38.0000 - true_positives_109: 367.0000 - true_negatives_109: 404.0000 - precision_109: 0.9919 - recall_109: 0.9062\n",
            "Epoch 8/10\n",
            "26/26 [==============================] - 0s 1ms/step - loss: 0.5838 - binary_accuracy: 0.9483 - false_positives_109: 2.0000 - false_negatives_109: 40.0000 - true_positives_109: 365.0000 - true_negatives_109: 405.0000 - precision_109: 0.9946 - recall_109: 0.9012 \n",
            "Epoch 9/10\n",
            "26/26 [==============================] - 0s 2ms/step - loss: 0.5736 - binary_accuracy: 0.9520 - false_positives_109: 0.0000e+00 - false_negatives_109: 39.0000 - true_positives_109: 366.0000 - true_negatives_109: 407.0000 - precision_109: 1.0000 - recall_109: 0.9037\n",
            "Epoch 10/10\n",
            "26/26 [==============================] - 0s 2ms/step - loss: 0.5678 - binary_accuracy: 0.9520 - false_positives_109: 0.0000e+00 - false_negatives_109: 39.0000 - true_positives_109: 366.0000 - true_negatives_109: 407.0000 - precision_109: 1.0000 - recall_109: 0.9037\n"
          ],
          "name": "stdout"
        }
      ]
    },
    {
      "cell_type": "code",
      "metadata": {
        "colab": {
          "base_uri": "https://localhost:8080/"
        },
        "id": "QLR7C036Cx8y",
        "outputId": "d7d319f1-e17d-4547-878a-6980f8026672"
      },
      "source": [
        "print(\"Evaluate on test data\")\n",
        "results = My_Genomics_model_4.evaluate(X_test_pca,y_test, batch_size=128)       # EVALUATE THE MODEL\n",
        "print('Loss:           ',results[0] ,'\\nAccuracy:       ',results[1])           \n",
        "print('False Positive: ',results[2] ,'\\nFalse Negative: ',results[3])\n",
        "print('True Positive:  ',results[4] ,'\\nTrue Negative:  ',results[5])\n",
        "print('Precision    :  ',results[6] ,'\\nRecall:         ',results[7])\n",
        "print(\"Evaluate on test data\")\n",
        "results = My_Genomics_model_8.evaluate(X_test_pca,y_test, batch_size=128)       # EVALUATE THE MODEL\n",
        "print('Loss:           ',results[0] ,'\\nAccuracy:       ',results[1])           \n",
        "print('False Positive: ',results[2] ,'\\nFalse Negative: ',results[3])\n",
        "print('True Positive:  ',results[4] ,'\\nTrue Negative:  ',results[5])\n",
        "print('Precision    :  ',results[6] ,'\\nRecall:         ',results[7])\n",
        "print(\"Evaluate on test data\")\n",
        "results = My_Genomics_model_16.evaluate(X_test_pca,y_test, batch_size=128)      # EVALUATE THE MODEL\n",
        "print('Loss:           ',results[0] ,'\\nAccuracy:       ',results[1])           \n",
        "print('False Positive: ',results[2] ,'\\nFalse Negative: ',results[3])\n",
        "print('True Positive:  ',results[4] ,'\\nTrue Negative:  ',results[5])\n",
        "print('Precision    :  ',results[6] ,'\\nRecall:         ',results[7])\n",
        "print(\"Evaluate on test data\")\n",
        "results = My_Genomics_model_64.evaluate(X_test_pca,y_test, batch_size=128)      # EVALUATE THE MODEL\n",
        "print('Loss:           ',results[0] ,'\\nAccuracy:       ',results[1])           \n",
        "print('False Positive: ',results[2] ,'\\nFalse Negative: ',results[3])\n",
        "print('True Positive:  ',results[4] ,'\\nTrue Negative:  ',results[5])\n",
        "print('Precision    :  ',results[6] ,'\\nRecall:         ',results[7])\n",
        "print(\"Evaluate on test data\")\n",
        "results = My_Genomics_model_128.evaluate(X_test_pca,y_test, batch_size=128)     # EVALUATE THE MODEL\n",
        "print('Loss:           ',results[0] ,'\\nAccuracy:       ',results[1])           \n",
        "print('False Positive: ',results[2] ,'\\nFalse Negative: ',results[3])\n",
        "print('True Positive:  ',results[4] ,'\\nTrue Negative:  ',results[5])\n",
        "print('Precision    :  ',results[6] ,'\\nRecall:         ',results[7])"
      ],
      "execution_count": null,
      "outputs": [
        {
          "output_type": "stream",
          "text": [
            "Evaluate on test data\n",
            "4/4 [==============================] - 0s 2ms/step - loss: 0.6588 - binary_accuracy: 0.8362 - false_positives_105: 17.0000 - false_negatives_105: 60.0000 - true_positives_105: 176.0000 - true_negatives_105: 217.0000 - precision_105: 0.9119 - recall_105: 0.7458\n",
            "Loss:            0.6587974429130554 \n",
            "Accuracy:        0.8361701965332031\n",
            "False Positive:  17.0 \n",
            "False Negative:  60.0\n",
            "True Positive:   176.0 \n",
            "True Negative:   217.0\n",
            "Precision    :   0.9119170904159546 \n",
            "Recall:          0.7457627058029175\n",
            "Evaluate on test data\n",
            "4/4 [==============================] - 0s 2ms/step - loss: 0.6182 - binary_accuracy: 0.8298 - false_positives_106: 34.0000 - false_negatives_106: 46.0000 - true_positives_106: 190.0000 - true_negatives_106: 200.0000 - precision_106: 0.8482 - recall_106: 0.8051\n",
            "Loss:            0.6181778907775879 \n",
            "Accuracy:        0.8297872543334961\n",
            "False Positive:  34.0 \n",
            "False Negative:  46.0\n",
            "True Positive:   190.0 \n",
            "True Negative:   200.0\n",
            "Precision    :   0.8482142686843872 \n",
            "Recall:          0.805084764957428\n",
            "Evaluate on test data\n",
            "4/4 [==============================] - 0s 3ms/step - loss: 0.5623 - binary_accuracy: 0.9255 - false_positives_107: 23.0000 - false_negatives_107: 12.0000 - true_positives_107: 224.0000 - true_negatives_107: 211.0000 - precision_107: 0.9069 - recall_107: 0.9492\n",
            "Loss:            0.5622614026069641 \n",
            "Accuracy:        0.9255319237709045\n",
            "False Positive:  23.0 \n",
            "False Negative:  12.0\n",
            "True Positive:   224.0 \n",
            "True Negative:   211.0\n",
            "Precision    :   0.9068825840950012 \n",
            "Recall:          0.9491525292396545\n",
            "Evaluate on test data\n",
            "4/4 [==============================] - 0s 2ms/step - loss: 0.5384 - binary_accuracy: 0.9489 - false_positives_108: 0.0000e+00 - false_negatives_108: 24.0000 - true_positives_108: 212.0000 - true_negatives_108: 234.0000 - precision_108: 1.0000 - recall_108: 0.8983\n",
            "Loss:            0.5383618474006653 \n",
            "Accuracy:        0.9489361643791199\n",
            "False Positive:  0.0 \n",
            "False Negative:  24.0\n",
            "True Positive:   212.0 \n",
            "True Negative:   234.0\n",
            "Precision    :   1.0 \n",
            "Recall:          0.8983050584793091\n",
            "Evaluate on test data\n",
            "4/4 [==============================] - 0s 2ms/step - loss: 0.5592 - binary_accuracy: 0.9681 - false_positives_109: 0.0000e+00 - false_negatives_109: 15.0000 - true_positives_109: 221.0000 - true_negatives_109: 234.0000 - precision_109: 1.0000 - recall_109: 0.9364\n",
            "Loss:            0.5592180490493774 \n",
            "Accuracy:        0.9680851101875305\n",
            "False Positive:  0.0 \n",
            "False Negative:  15.0\n",
            "True Positive:   221.0 \n",
            "True Negative:   234.0\n",
            "Precision    :   1.0 \n",
            "Recall:          0.9364407062530518\n"
          ],
          "name": "stdout"
        }
      ]
    },
    {
      "cell_type": "code",
      "metadata": {
        "colab": {
          "base_uri": "https://localhost:8080/",
          "height": 1000
        },
        "id": "G3QSQQrbYm__",
        "outputId": "3b6b835c-6dcd-42a8-9338-3dbf141c5872"
      },
      "source": [
        "plot_training_parameter(My_Genomics_model_4_history)\n",
        "plot_training_parameter(My_Genomics_model_8_history)\n",
        "plot_training_parameter(My_Genomics_model_16_history)\n",
        "plot_training_parameter(My_Genomics_model_64_history)\n",
        "plot_training_parameter(My_Genomics_model_128_history)"
      ],
      "execution_count": null,
      "outputs": [
        {
          "output_type": "display_data",
          "data": {
            "image/png": "[encoded data removed]",
            "text/plain": [
              "<Figure size 432x288 with 1 Axes>"
            ]
          },
          "metadata": {
            "tags": [],
            "needs_background": "light"
          }
        },
        {
          "output_type": "display_data",
          "data": {
            "image/png": "[encoded data removed]",
            "text/plain": [
              "<Figure size 432x288 with 1 Axes>"
            ]
          },
          "metadata": {
            "tags": [],
            "needs_background": "light"
          }
        },
        {
          "output_type": "display_data",
          "data": {
            "image/png": "[encoded data removed]",
            "text/plain": [
              "<Figure size 432x288 with 1 Axes>"
            ]
          },
          "metadata": {
            "tags": [],
            "needs_background": "light"
          }
        },
        {
          "output_type": "display_data",
          "data": {
            "image/png": "[encoded data removed]",
            "text/plain": [
              "<Figure size 432x288 with 1 Axes>"
            ]
          },
          "metadata": {
            "tags": [],
            "needs_background": "light"
          }
        },
        {
          "output_type": "display_data",
          "data": {
            "image/png": "[encoded data removed]",
            "text/plain": [
              "<Figure size 432x288 with 1 Axes>"
            ]
          },
          "metadata": {
            "tags": [],
            "needs_background": "light"
          }
        },
        {
          "output_type": "display_data",
          "data": {
            "image/png": "[encoded data removed]",
            "text/plain": [
              "<Figure size 432x288 with 1 Axes>"
            ]
          },
          "metadata": {
            "tags": [],
            "needs_background": "light"
          }
        },
        {
          "output_type": "display_data",
          "data": {
            "image/png": "[encoded data removed]",
            "text/plain": [
              "<Figure size 432x288 with 1 Axes>"
            ]
          },
          "metadata": {
            "tags": [],
            "needs_background": "light"
          }
        },
        {
          "output_type": "display_data",
          "data": {
            "image/png": "[encoded data removed]",
            "text/plain": [
              "<Figure size 432x288 with 1 Axes>"
            ]
          },
          "metadata": {
            "tags": [],
            "needs_background": "light"
          }
        },
        {
          "output_type": "display_data",
          "data": {
            "image/png": "[encoded data removed]",
            "text/plain": [
              "<Figure size 432x288 with 1 Axes>"
            ]
          },
          "metadata": {
            "tags": [],
            "needs_background": "light"
          }
        },
        {
          "output_type": "display_data",
          "data": {
            "image/png": "[encoded data removed]",
            "text/plain": [
              "<Figure size 432x288 with 1 Axes>"
            ]
          },
          "metadata": {
            "tags": [],
            "needs_background": "light"
          }
        }
      ]
    },
    {
      "cell_type": "code",
      "metadata": {
        "colab": {
          "base_uri": "https://localhost:8080/"
        },
        "id": "YMN8sWoEWpB2",
        "outputId": "a058b8d1-7bc9-491c-c795-736acbf0b277"
      },
      "source": [
        "pred_labels = My_Genomics_model_4.predict(X_test_pca)\n",
        "cm = confusion_matrix(y_test, pred_labels.round())\n",
        "print(\"Confusion Matrix\")\n",
        "print(cm)\n",
        "pred_labels = My_Genomics_model_8.predict(X_test_pca)\n",
        "cm = confusion_matrix(y_test, pred_labels.round())\n",
        "print(\"Confusion Matrix\")\n",
        "print(cm)\n",
        "pred_labels = My_Genomics_model_16.predict(X_test_pca)\n",
        "cm = confusion_matrix(y_test, pred_labels.round())\n",
        "print(\"Confusion Matrix\")\n",
        "print(cm)\n",
        "pred_labels = My_Genomics_model_64.predict(X_test_pca)\n",
        "cm = confusion_matrix(y_test, pred_labels.round())\n",
        "print(\"Confusion Matrix\")\n",
        "print(cm)\n",
        "pred_labels = My_Genomics_model_128.predict(X_test_pca)\n",
        "cm = confusion_matrix(y_test, pred_labels.round())\n",
        "print(\"Confusion Matrix\")\n",
        "print(cm)"
      ],
      "execution_count": null,
      "outputs": [
        {
          "output_type": "stream",
          "text": [
            "Confusion Matrix\n",
            "[[222  12]\n",
            " [ 58 178]]\n",
            "Confusion Matrix\n",
            "[[198  36]\n",
            " [ 40 196]]\n",
            "Confusion Matrix\n",
            "[[208  26]\n",
            " [ 20 216]]\n",
            "Confusion Matrix\n",
            "[[234   0]\n",
            " [ 25 211]]\n",
            "Confusion Matrix\n",
            "[[234   0]\n",
            " [ 13 223]]\n"
          ],
          "name": "stdout"
        }
      ]
    },
    {
      "cell_type": "markdown",
      "metadata": {
        "id": "tAq9qATCbxWY"
      },
      "source": [
        "## Save Model"
      ]
    },
    {
      "cell_type": "code",
      "metadata": {
        "colab": {
          "base_uri": "https://localhost:8080/"
        },
        "id": "zDGcgepNb0O-",
        "outputId": "e9dd5941-5b82-4715-a805-46b956e863af"
      },
      "source": [
        "os.chdir('/content/drive/MyDrive/Bioinfo')                                      # CHANGE DIRECTORY\n",
        "model_name = 'My_Genomics_model_clf2_2048_drop01_lr1e-3_acc97'                  # MODEL NAME  \n",
        "My_model_json = My_Genomics_model.to_json()                                     # CONVERT TO JSON FILE  \n",
        "with open(str(model_name)+'.json', \"w\") as json_file:                           # WRITE JSON FILE\n",
        "    json_file.write(My_model_json)\n",
        "My_Genomics_model.save_weights(str(model_name)+'.h5')                           # SAVE WEIGHTS\n",
        "print(\"Saved model to disk\")"
      ],
      "execution_count": null,
      "outputs": [
        {
          "output_type": "stream",
          "text": [
            "Saved model to disk\n"
          ],
          "name": "stdout"
        }
      ]
    },
    {
      "cell_type": "markdown",
      "metadata": {
        "id": "1bxDxhaScXI9"
      },
      "source": [
        "## Load the best model"
      ]
    },
    {
      "cell_type": "code",
      "metadata": {
        "colab": {
          "base_uri": "https://localhost:8080/"
        },
        "id": "PRYsV9WZcZtO",
        "outputId": "d170b5a3-071e-411a-aed3-95d1afe243bb"
      },
      "source": [
        "os.chdir('/content/drive/My Drive/Bioinfo')                                     # CHANGE DIRECTORY\n",
        "model_name = 'My_Genomics_model_clf2_2048_drop01_lr1e-3_acc97'                  # MODEL NAME\n",
        "json_file = open(str(model_name)+'.json', 'r')                                  # OPEN JSON FILE\n",
        "loaded_model_json = json_file.read()\n",
        "json_file.close()\n",
        "My_Genomics_model = model_from_json(loaded_model_json)                          # LOAD JSON FILE\n",
        "My_Genomics_model.load_weights(str(model_name)+'.h5')                           # LOAD WEIGHTS\n",
        "print(\"Loaded model from disk\")\n",
        "My_Genomics_model.compile(optimizer=keras.optimizers.Adam(learning_rate=0.1),   # ADAM OPTIMIZER\n",
        "                loss=keras.losses.BinaryCrossentropy(from_logits=True),         # LOSS = BINARY CROSSENTROPY\n",
        "                metrics=[keras.metrics.BinaryAccuracy(),\n",
        "                        keras.metrics.FalsePositives(),\n",
        "                        keras.metrics.FalseNegatives(),\n",
        "                        keras.metrics.TruePositives(),\n",
        "                        keras.metrics.TrueNegatives(),\n",
        "                        keras.metrics.Precision(),\n",
        "                        keras.metrics.Recall(),])   \n",
        "print(\"Evaluate on test data\")\n",
        "results = My_Genomics_model.evaluate(X_test_pca,y_test, batch_size=1,verbose=2) # EVALUATE MODEL\n",
        "print('Loss:           ',results[0] ,'\\nAccuracy:       ',results[1])\n",
        "print('False Positive: ',results[2] ,'\\nFalse Negative: ',results[3])\n",
        "print('True Positive:  ',results[4] ,'\\nTrue Negative:  ',results[5])\n",
        "print('Precision    :  ',results[6] ,'\\nRecall:         ',results[7])        "
      ],
      "execution_count": null,
      "outputs": [
        {
          "output_type": "stream",
          "text": [
            "Loaded model from disk\n",
            "Evaluate on test data\n",
            "470/470 - 1s - loss: 0.5107 - binary_accuracy: 0.9787 - false_positives_4: 0.0000e+00 - false_negatives_4: 10.0000 - true_positives_4: 226.0000 - true_negatives_4: 234.0000 - precision_4: 1.0000 - recall_4: 0.9576\n",
            "Loss:            0.5106649398803711 \n",
            "Accuracy:        0.978723406791687\n",
            "False Positive:  0.0 \n",
            "False Negative:  10.0\n",
            "True Positive:   226.0 \n",
            "True Negative:   234.0\n",
            "Precision    :   1.0 \n",
            "Recall:          0.9576271176338196\n"
          ],
          "name": "stdout"
        }
      ]
    },
    {
      "cell_type": "markdown",
      "metadata": {
        "id": "2JGoNL_8yfZ1"
      },
      "source": [
        "# IMAGE DATA AND MODEL"
      ]
    },
    {
      "cell_type": "markdown",
      "metadata": {
        "id": "yOqEEsKC7VwU"
      },
      "source": [
        "## Features and Labels split & Label Encoding"
      ]
    },
    {
      "cell_type": "code",
      "metadata": {
        "colab": {
          "base_uri": "https://localhost:8080/"
        },
        "id": "LmhWzTgnyjvk",
        "outputId": "04d84bcd-7991-45be-9237-ab27abd7227b"
      },
      "source": [
        "os.chdir('/content/drive/My Drive/Bioinfo/DataSet')                             # CHANGE DIRECTORY\n",
        "one_hot_encoding(wsiData)                                                       # ONE HOT ENCODING TEST DATA\n",
        "labels = np.concatenate([y for x, y in wsiData])                                # EXTRACT LABELS\n",
        "images = np.concatenate([x for x, y in wsiData])                                # EXTRACT IMAGES\n",
        "print(labels)\n",
        "print(images.shape)"
      ],
      "execution_count": null,
      "outputs": [
        {
          "output_type": "stream",
          "text": [
            "[1 1 0 1 0 0 0 0 0 1 1 1 0 1 0 1 0 0 1 1 1 1 1 0 0 1 1 1 0 0 1 1 0 1 0 1 1\n",
            " 1 1 1 1 1 0 0 0 1 1 1 0 1 1 0 0 0 0 0 0 0 1 1 1 1 0 0 1 0 1 1 1 0 1 0 1 1\n",
            " 0 0 0 1 1 1 0 0 0 0 1 1 0 1 1 1 1 0 1 0 0 0 1 0 0 1 0 0 1 0 1 0 0 0 0 0 1\n",
            " 1 0 1 0 0 0 0 0 0 1 1 1 1 1 0 0 0 1 0 0 1 0 0 0 0 0 1 1 1 1 0 1 1 1 1 1 0\n",
            " 1 1 1 1 0 0 0 1 1 1 0 0 0 1 1 1 0 0 0 0 0 0 1 1 1 1 1 1 0 1 1 1 1 0 1 0 1\n",
            " 0 0 1 1 1 1 1 0 0 1 1 0 1 1 0 0 1 0 1 0 0 0 1 0 0 0 0 0 1 1 0 0 1 1 1 0 1\n",
            " 1 1 1 0 0 1 1 1 1 0 1 1 1 0 0 0 0 1 1 0 0 1 1 1 1 1 1 1 0 0 0 0 1 0 1 0 1\n",
            " 1 0 1 1 1 1 1 0 1 0 1 1 0 0 1 0 1 0 0 0 1 1 0 1 0 0 0 0 0 0 0 0 0 1 1 1 0\n",
            " 0 0 0 1 1 0 0 0 0 0 1 0 0 0 1 0 0 0 0 1 1 1 0 1 1 0 1 1 0 0 0 1 0 0 0 1 0\n",
            " 1 0 1 0 1 1 0 1 1 0 0 0 0 0 1 1 1 0 1 0 0 0 0 1 0 0 1 1 0 0 1 0 0 1 1 0 0\n",
            " 1 0 0 1 1 1 0 1 1 0 1 0 0 0 1 0 0 0 0 1 0 1 1 1 0 1 0 0 1 0 0 0 1 1 0 1 1\n",
            " 0 0 0 0 1 1 1 1 0 1 1 0 1 1 1 0 0 1 1 1 1 0 1 1 1 0 0 0 1 1 0 1 0 1 1 1 0\n",
            " 1 1 0 0 1 0 0 0 0 1 0 1 0 1 0 1 1 1 0 0 1 0 1 0 0 1]\n",
            "(470, 256, 256, 3)\n"
          ],
          "name": "stdout"
        }
      ]
    },
    {
      "cell_type": "code",
      "metadata": {
        "colab": {
          "base_uri": "https://localhost:8080/"
        },
        "id": "B3ZhhixwUrUG",
        "outputId": "3e44c2ea-2ce0-40c6-b4c6-841c40f6591d"
      },
      "source": [
        "print(len(labels))\n",
        "print(images.shape)"
      ],
      "execution_count": null,
      "outputs": [
        {
          "output_type": "stream",
          "text": [
            "470\n",
            "(470, 256, 256, 3)\n"
          ],
          "name": "stdout"
        }
      ]
    },
    {
      "cell_type": "markdown",
      "metadata": {
        "id": "fBzGtVXLD0MD"
      },
      "source": [
        "## Load models"
      ]
    },
    {
      "cell_type": "code",
      "metadata": {
        "colab": {
          "base_uri": "https://localhost:8080/"
        },
        "id": "lxjTqbFYD2vp",
        "outputId": "8b5adb98-b70b-48e1-925f-efb1bcec1d53"
      },
      "source": [
        "os.chdir('/content/drive/My Drive/Bioinfo/DataSet')                             # CHANGE DIRECTORY\n",
        "model_name_1 = 'My_model_clf0_drop01_lr1e-4'                                    # MODEL NAME\n",
        "json_file = open(str(model_name_1)+'.json', 'r')                                # OPEN JSON FILE\n",
        "loaded_model_json_1 = json_file.read()                                                \n",
        "json_file.close()\n",
        "My_Images_model_1 = model_from_json(loaded_model_json_1)                        # LOAD JSON\n",
        "My_Images_model_1.load_weights(str(model_name_1)+'.h5')                         # LOAD WEIGHTS\n",
        "print(\"Loaded model from disk\")\n",
        "model_name_2 = 'My_model_clf1_2048_alldrop_01_lr1e-4'                           # MODEL NAME\n",
        "json_file = open(str(model_name_2)+'.json', 'r')                                # OPEN JSON FILE\n",
        "loaded_model_json_2 = json_file.read()                                                \n",
        "json_file.close()\n",
        "My_Images_model_2 = model_from_json(loaded_model_json_2)                        # LOAD JSON\n",
        "My_Images_model_2.load_weights(str(model_name_2)+'.h5')                         # LOAD WEIGHTS\n",
        "print(\"Loaded model from disk\")\n",
        "model_name_3 = 'My_model_clf2_1024_alldrop_01_lr1e-4'                           # MODEL NAME\n",
        "json_file = open(str(model_name_3)+'.json', 'r')                                # OPEN JSON FILE\n",
        "loaded_model_json_3 = json_file.read()                                                \n",
        "json_file.close()\n",
        "My_Images_model_3 = model_from_json(loaded_model_json_3)                        # LOAD JSON\n",
        "My_Images_model_3.load_weights(str(model_name_3)+'.h5')                         # LOAD WEIGHTS\n",
        "print(\"Loaded model from disk\")\n",
        "      "
      ],
      "execution_count": null,
      "outputs": [
        {
          "output_type": "stream",
          "text": [
            "Loaded model from disk\n",
            "Loaded model from disk\n",
            "Loaded model from disk\n"
          ],
          "name": "stdout"
        }
      ]
    },
    {
      "cell_type": "markdown",
      "metadata": {
        "id": "YjvcZglOXgkD"
      },
      "source": [
        "## Evaluate models"
      ]
    },
    {
      "cell_type": "code",
      "metadata": {
        "colab": {
          "base_uri": "https://localhost:8080/"
        },
        "id": "mJHklfv3NYtL",
        "outputId": "5eddf6f0-be87-4d3d-e9eb-d66ba373151c"
      },
      "source": [
        "My_Images_model_1.compile(optimizer=keras.optimizers.Adam(learning_rate=0.0001),# ADAM OPTIMIZER\n",
        "                loss=keras.losses.BinaryCrossentropy(from_logits=True),         # LOSS = BINARY CROSSENTROPY\n",
        "                metrics=[keras.metrics.BinaryAccuracy(),\n",
        "                        keras.metrics.FalsePositives(),\n",
        "                        keras.metrics.FalseNegatives(),\n",
        "                        keras.metrics.TruePositives(),\n",
        "                        keras.metrics.TrueNegatives(),\n",
        "                        keras.metrics.Precision(),\n",
        "                        keras.metrics.Recall(),])   \n",
        "print(\"Evaluate on test data\")\n",
        "results = My_Images_model_1.evaluate(wsiData, batch_size=1,verbose=2)           # EVALUATE MODEL\n",
        "print('Loss:           ',results[0] ,'\\nAccuracy:       ',results[1])\n",
        "print('False Positive: ',results[2] ,'\\nFalse Negative: ',results[3])\n",
        "print('True Positive:  ',results[4] ,'\\nTrue Negative:  ',results[5])\n",
        "print('Precision    :  ',results[6] ,'\\nRecall:         ',results[7])  \n",
        "My_Images_model_2.compile(optimizer=keras.optimizers.Adam(learning_rate=0.0001),# ADAM OPTIMIZER\n",
        "                loss=keras.losses.BinaryCrossentropy(from_logits=True),         # LOSS = BINARY CROSSENTROPY\n",
        "                metrics=[keras.metrics.BinaryAccuracy(),\n",
        "                        keras.metrics.FalsePositives(),\n",
        "                        keras.metrics.FalseNegatives(),\n",
        "                        keras.metrics.TruePositives(),\n",
        "                        keras.metrics.TrueNegatives(),\n",
        "                        keras.metrics.Precision(),\n",
        "                        keras.metrics.Recall(),])   \n",
        "print(\"Evaluate on test data\")\n",
        "results = My_Images_model_2.evaluate(wsiData, batch_size=1,verbose=2)           # EVALUATE MODEL\n",
        "print('Loss:           ',results[0] ,'\\nAccuracy:       ',results[1])\n",
        "print('False Positive: ',results[2] ,'\\nFalse Negative: ',results[3])\n",
        "print('True Positive:  ',results[4] ,'\\nTrue Negative:  ',results[5])\n",
        "print('Precision    :  ',results[6] ,'\\nRecall:         ',results[7])  \n",
        "My_Images_model_3.compile(optimizer=keras.optimizers.Adam(learning_rate=0.0001),# ADAM OPTIMIZER\n",
        "                loss=keras.losses.BinaryCrossentropy(from_logits=True),         # LOSS = BINARY CROSSENTROPY\n",
        "                metrics=[keras.metrics.BinaryAccuracy(),\n",
        "                        keras.metrics.FalsePositives(),\n",
        "                        keras.metrics.FalseNegatives(),\n",
        "                        keras.metrics.TruePositives(),\n",
        "                        keras.metrics.TrueNegatives(),\n",
        "                        keras.metrics.Precision(),\n",
        "                        keras.metrics.Recall(),])   \n",
        "print(\"Evaluate on test data\")\n",
        "results = My_Images_model_3.evaluate(wsiData, batch_size=1,verbose=2)           # EVALUATE MODEL\n",
        "print('Loss:           ',results[0] ,'\\nAccuracy:       ',results[1])\n",
        "print('False Positive: ',results[2] ,'\\nFalse Negative: ',results[3])\n",
        "print('True Positive:  ',results[4] ,'\\nTrue Negative:  ',results[5])\n",
        "print('Precision    :  ',results[6] ,'\\nRecall:         ',results[7])  "
      ],
      "execution_count": null,
      "outputs": [
        {
          "output_type": "stream",
          "text": [
            "Evaluate on test data\n",
            "15/15 - 3s - loss: 0.5716 - binary_accuracy: 0.8298 - false_positives: 8.0000 - false_negatives: 72.0000 - true_positives: 163.0000 - true_negatives: 227.0000 - precision: 0.9532 - recall: 0.6936\n",
            "Loss:            0.5716420412063599 \n",
            "Accuracy:        0.8297872543334961\n",
            "False Positive:  8.0 \n",
            "False Negative:  72.0\n",
            "True Positive:   163.0 \n",
            "True Negative:   227.0\n",
            "Precision    :   0.9532163739204407 \n",
            "Recall:          0.693617045879364\n",
            "Evaluate on test data\n",
            "15/15 - 4s - loss: 0.5715 - binary_accuracy: 0.8340 - false_positives_1: 10.0000 - false_negatives_1: 68.0000 - true_positives_1: 167.0000 - true_negatives_1: 225.0000 - precision_1: 0.9435 - recall_1: 0.7106\n",
            "Loss:            0.5715011358261108 \n",
            "Accuracy:        0.8340425491333008\n",
            "False Positive:  10.0 \n",
            "False Negative:  68.0\n",
            "True Positive:   167.0 \n",
            "True Negative:   225.0\n",
            "Precision    :   0.9435028433799744 \n",
            "Recall:          0.7106382846832275\n",
            "Evaluate on test data\n",
            "15/15 - 2s - loss: 0.6237 - binary_accuracy: 0.7681 - false_positives_2: 71.0000 - false_negatives_2: 38.0000 - true_positives_2: 197.0000 - true_negatives_2: 164.0000 - precision_2: 0.7351 - recall_2: 0.8383\n",
            "Loss:            0.6237068176269531 \n",
            "Accuracy:        0.7680851221084595\n",
            "False Positive:  71.0 \n",
            "False Negative:  38.0\n",
            "True Positive:   197.0 \n",
            "True Negative:   164.0\n",
            "Precision    :   0.7350746393203735 \n",
            "Recall:          0.8382978439331055\n"
          ],
          "name": "stdout"
        }
      ]
    },
    {
      "cell_type": "markdown",
      "metadata": {
        "id": "89rnF2Wuz4Qx"
      },
      "source": [
        "TRY PREDICT BUT IT DOESN'T WORK AS EVALUATE"
      ]
    },
    {
      "cell_type": "code",
      "metadata": {
        "colab": {
          "base_uri": "https://localhost:8080/"
        },
        "id": "7cfk3IlgrADm",
        "outputId": "a67e0621-058a-4c81-fb3c-153a05c6cb5e"
      },
      "source": [
        "pred_labels = My_Images_model_1.predict(wsiData)\n",
        "predDataframe = pd.DataFrame(pred_labels,columns=['Predictions'])\n",
        "predDataframe['True Labels'] = labels\n",
        "print(predDataframe)\n",
        "predDataframe.loc[(predDataframe['Predictions'] > 0.5), 'Predictions'] = 1\n",
        "predDataframe.loc[(predDataframe['Predictions'] < 0.5), 'Predictions'] = 0\n",
        "k=0\n",
        "for i,j in zip(predDataframe['Predictions'].values,predDataframe['True Labels'].values):\n",
        "  if (i==j):\n",
        "    k+=1\n",
        "predAccuracy = k/int(len(predDataframe['Predictions'].values))\n",
        "print('Accuracy: ',predAccuracy)"
      ],
      "execution_count": null,
      "outputs": [
        {
          "output_type": "stream",
          "text": [
            "      Predictions  True Labels\n",
            "0    1.000000e+00            1\n",
            "1    2.723995e-08            1\n",
            "2    9.027992e-09            0\n",
            "3    1.174431e-08            1\n",
            "4    1.000000e+00            0\n",
            "..            ...          ...\n",
            "465  6.535935e-06            0\n",
            "466  1.000000e+00            1\n",
            "467  8.218757e-07            0\n",
            "468  1.000000e+00            0\n",
            "469  5.390601e-07            1\n",
            "\n",
            "[470 rows x 2 columns]\n",
            "Accuracy:  0.4829787234042553\n"
          ],
          "name": "stdout"
        }
      ]
    },
    {
      "cell_type": "code",
      "metadata": {
        "colab": {
          "base_uri": "https://localhost:8080/"
        },
        "id": "IINUiyEggfnv",
        "outputId": "c90f1ed3-96e0-4de9-b362-2e25e9f880eb"
      },
      "source": [
        "pred_labels = My_Images_model_1.predict(wsiData)\n",
        "cm = confusion_matrix(labels, pred_labels.round())\n",
        "print(\"Confusion Matrix\")\n",
        "print(cm)\n",
        "pred_labels = My_Images_model_2.predict(wsiData)\n",
        "cm = confusion_matrix(labels, pred_labels.round())\n",
        "print(\"Confusion Matrix\")\n",
        "print(cm)\n",
        "pred_labels = My_Images_model_3.predict(wsiData)\n",
        "cm = confusion_matrix(labels, pred_labels.round())\n",
        "print(\"Confusion Matrix\")\n",
        "print(cm)"
      ],
      "execution_count": null,
      "outputs": [
        {
          "output_type": "stream",
          "text": [
            "Confusion Matrix\n",
            "[[153  82]\n",
            " [146  89]]\n",
            "Confusion Matrix\n",
            "[[152  83]\n",
            " [139  96]]\n",
            "Confusion Matrix\n",
            "[[ 99 136]\n",
            " [104 131]]\n"
          ],
          "name": "stdout"
        }
      ]
    },
    {
      "cell_type": "markdown",
      "metadata": {
        "id": "d5D1DWhDDibE"
      },
      "source": [
        "# CONSENSUS CLASSIFIER"
      ]
    },
    {
      "cell_type": "markdown",
      "metadata": {
        "id": "epdAPmSEPkNJ"
      },
      "source": [
        "## IMAGES"
      ]
    },
    {
      "cell_type": "markdown",
      "metadata": {
        "id": "mMRWDSQHF9fK"
      },
      "source": [
        "### Analysis"
      ]
    },
    {
      "cell_type": "code",
      "metadata": {
        "id": "x4vZQgnADlhg"
      },
      "source": [
        "image_preds_healthy=[]                                                          # HEALTHY PREDICTIONS                                      \n",
        "image_preds_tumoral=[]                                                          # TUMORAL PREDICTION\n",
        "image_uncertainty_healthy=[]                                                    # HEALTHY UNCERTAINTY\n",
        "image_uncertainty_tumoral=[]                                                    # TUMORAL UNCERTAINTY\n",
        "for image , label in zip(images,labels):                                          \n",
        "  if (label==0):                                                                # IF HEALTHY\n",
        "    image_pred_healthy = []                                                     # PREDICTIONS AMONG THE SAME INPUT\n",
        "    image = np.asarray(image).reshape((1,256,256,3))                            # CONTERT TO NUMPY ARRAY AND RESHAPE FOR INPUT LAYER\n",
        "    for i in range(0,10):                                                       # 10 PREDICTIONS\n",
        "      _image_pred_healthy = My_Images_model_1.predict(image)                    # PREDICT\n",
        "      image_pred_healthy.append(float(_image_pred_healthy))                     # APPEND PREDICTION TO A LIST  \n",
        "      _image_pred_healthy = My_Images_model_2.predict(image)                    # PREDICT\n",
        "      image_pred_healthy.append(float(_image_pred_healthy))                     # APPEND PREDICTION TO A LIST  \n",
        "      _image_pred_healthy = My_Images_model_3.predict(image)                    # PREDICT\n",
        "      image_pred_healthy.append(float(_image_pred_healthy))                     # APPEND PREDICTION TO A LIST    \n",
        "    image_pred_healthy = np.array(image_pred_healthy)                           # CONVERT LIST TO NUMPY ARRAY\n",
        "    mean_image_pred_healthy = np.mean(image_pred_healthy, axis=0)               # CALCULATE THE MEAN\n",
        "    if (np.mean(image_pred_healthy, axis=0)<0.5):\n",
        "      mean_image_pred_healthy = np.mean(image_pred_healthy, axis=0)-1           # -> -1 HEALTHY\n",
        "    else:\n",
        "      mean_image_pred_healthy = np.mean(image_pred_healthy, axis=0)             # -> 1 TUMORAL\n",
        "    image_preds_healthy.append(mean_image_pred_healthy)                         # APPEND PREDICTION MEAN\n",
        "    aleatoric = np.mean(image_pred_healthy * (1 - image_pred_healthy), axis=0)  # CALCULATE UNCERTAINTIES\n",
        "    epistemic = np.mean(image_pred_healthy ** 2, axis=0) - np.mean(image_pred_healthy, axis=0) ** 2\n",
        "    uncertainty_image_pred_healthy = epistemic + aleatoric                      # SUM UNCERTAINTIES\n",
        "    image_uncertainty_healthy.append(uncertainty_image_pred_healthy)            # APPEND PREDICTION UNCERTAINTY\n",
        "  if (label==1):                                                                # IF TUMORAL\n",
        "    image_pred_tumoral = []                                                     # PREDICTIONS AMONG THE SAME INPUT\n",
        "    image = np.asarray(image).reshape((1,256,256,3))                            # CONTERT TO NUMPY ARRAY AND RESHAPE FOR INPUT LAYER\n",
        "    for i in range(0,10):                                                       # 10 PREDICTIONS\n",
        "      _image_pred_tumoral = My_Images_model_1.predict(image)                    # PREDICT\n",
        "      image_pred_tumoral.append(float(_image_pred_tumoral))                     # APPEND PREDICTION TO A LIST   \n",
        "      _image_pred_tumoral = My_Images_model_2.predict(image)                    # PREDICT\n",
        "      image_pred_tumoral.append(float(_image_pred_tumoral))                     # APPEND PREDICTION TO A LIST   \n",
        "      _image_pred_tumoral = My_Images_model_3.predict(image)                    # PREDICT\n",
        "      image_pred_tumoral.append(float(_image_pred_tumoral))                     # APPEND PREDICTION TO A LIST    \n",
        "    image_pred_tumoral = np.array(image_pred_tumoral)                           # CONVERT LIST TO NUMPY ARRAY\n",
        "    mean_image_pred_tumoral = np.mean(image_pred_tumoral, axis=0)               # CALCULATE THE MEAN\n",
        "    if (np.mean(image_pred_tumoral, axis=0)<0.5):\n",
        "      mean_image_pred_tumoral = np.mean(image_pred_tumoral, axis=0)-1           # -> -1 HEALTHY\n",
        "    else:\n",
        "      mean_image_pred_tumoral = np.mean(image_pred_tumoral, axis=0)             # -> 1 TUMORAL\n",
        "    image_preds_tumoral.append(mean_image_pred_tumoral)                         # APPEND PREDICTION MEAN\n",
        "    aleatoric = np.mean(image_pred_tumoral * (1 - image_pred_tumoral), axis=0)  # CALCULATE UNCERTAINTIES\n",
        "    epistemic = np.mean(image_pred_tumoral ** 2, axis=0) - np.mean(image_pred_tumoral, axis=0) ** 2\n",
        "    uncertainty_image_pred_tumoral = epistemic + aleatoric                      # SUM UNCERTAINTIES\n",
        "    image_uncertainty_tumoral.append(uncertainty_image_pred_tumoral)            # APPEND PREDICTION UNCERTAINTY"
      ],
      "execution_count": null,
      "outputs": []
    },
    {
      "cell_type": "markdown",
      "metadata": {
        "id": "1tt_ItccNxsw"
      },
      "source": [
        "### Results Analysis"
      ]
    },
    {
      "cell_type": "code",
      "metadata": {
        "id": "7o5REU_VYeHG"
      },
      "source": [
        "genomicsDataframe = pd.read_csv('/content/drive/My Drive/Bioinfo/imageDataFrame.csv')"
      ],
      "execution_count": null,
      "outputs": []
    },
    {
      "cell_type": "code",
      "metadata": {
        "id": "flizebchp2sl"
      },
      "source": [
        "imageDataframe = pd.DataFrame(image_preds_healthy,columns=['Healthy Predictions'])\n",
        "imageDataframe['Healthy Uncertainty'] = image_uncertainty_healthy\n",
        "imageDataframe['Tumoral Predictions'] = image_preds_tumoral[:len(image_preds_healthy)]\n",
        "imageDataframe['Tumoral Uncertainty'] = image_uncertainty_tumoral[:len(image_preds_healthy)]"
      ],
      "execution_count": null,
      "outputs": []
    },
    {
      "cell_type": "code",
      "metadata": {
        "colab": {
          "base_uri": "https://localhost:8080/"
        },
        "id": "Q84gQaXddPgg",
        "outputId": "70b33a99-efca-4796-9175-58e0446e17b3"
      },
      "source": [
        "k=0\n",
        "for i,j in zip(imageDataframe['Healthy Predictions'].values,imageDataframe['Healthy Uncertainty'].values):\n",
        "  if (i<0):\n",
        "    k+=1\n",
        "print('Accuracy Healthy: ',k/int(len(imageDataframe['Healthy Predictions'].values)))\n",
        "w=0\n",
        "for i,j in zip(imageDataframe['Tumoral Predictions'].values,imageDataframe['Tumoral Uncertainty'].values):\n",
        "  if (i>0):\n",
        "    w+=1\n",
        "print('Accuracy Tumoral: ',w/int(len(imageDataframe['Tumoral Predictions'].values)))"
      ],
      "execution_count": null,
      "outputs": [
        {
          "output_type": "stream",
          "text": [
            "Accuracy Healthy:  0.6170212765957447\n",
            "Accuracy Tumoral:  0.37872340425531914\n"
          ],
          "name": "stdout"
        }
      ]
    },
    {
      "cell_type": "code",
      "metadata": {
        "id": "vOXqcm48Ybjp"
      },
      "source": [
        "imageDataframe.to_csv('/content/drive/My Drive/Bioinfo/imageDataFrame.csv',index=True)"
      ],
      "execution_count": null,
      "outputs": []
    },
    {
      "cell_type": "markdown",
      "metadata": {
        "id": "g-h_j5oIfQUC"
      },
      "source": [
        "### Reverse label based on uncertainty"
      ]
    },
    {
      "cell_type": "code",
      "metadata": {
        "colab": {
          "base_uri": "https://localhost:8080/"
        },
        "id": "ECDD2C-kbmr7",
        "outputId": "d6645562-b3e9-4c0e-cc36-4f4880dda795"
      },
      "source": [
        "# HEALTHY\n",
        "sigma = 0.21\n",
        "imageDataframe.loc[(imageDataframe['Healthy Uncertainty'] > sigma), 'Healthy Predictions'] = -1*imageDataframe['Healthy Predictions']\n",
        "k=0\n",
        "for i,j in zip(imageDataframe['Healthy Predictions'].values,imageDataframe['Healthy Uncertainty'].values):\n",
        "  if (i<0):\n",
        "    k+=1\n",
        "imagesAccuracyHealthy = k/int(len(imageDataframe['Healthy Predictions'].values))\n",
        "print('Accuracy Healthy: ',imagesAccuracyHealthy)"
      ],
      "execution_count": null,
      "outputs": [
        {
          "output_type": "stream",
          "text": [
            "Accuracy Healthy:  0.46808510638297873\n"
          ],
          "name": "stdout"
        }
      ]
    },
    {
      "cell_type": "code",
      "metadata": {
        "colab": {
          "base_uri": "https://localhost:8080/"
        },
        "id": "87t22MMXegIj",
        "outputId": "384aafd8-81de-4fd3-ca92-45e0fd069382"
      },
      "source": [
        "# TUMORAL\n",
        "imageDataframe.loc[(imageDataframe['Tumoral Uncertainty'] > sigma), 'Tumoral Predictions'] = -1*imageDataframe['Tumoral Predictions']\n",
        "w=0\n",
        "for i,j in zip(imageDataframe['Tumoral Predictions'].values,imageDataframe['Tumoral Uncertainty'].values):\n",
        "  if (i>0):\n",
        "    w+=1\n",
        "imagesAccuracyTumoral = w/int(len(imageDataframe['Tumoral Predictions'].values))\n",
        "print('Accuracy Tumoral: ', imagesAccuracyTumoral)"
      ],
      "execution_count": null,
      "outputs": [
        {
          "output_type": "stream",
          "text": [
            "Accuracy Tumoral:  0.4978723404255319\n"
          ],
          "name": "stdout"
        }
      ]
    },
    {
      "cell_type": "code",
      "metadata": {
        "id": "bQINHJ1wVXS_"
      },
      "source": [
        "imageDataframe.to_csv('/content/drive/My Drive/Bioinfo/reverseImageDataFrame.csv',index=True)"
      ],
      "execution_count": null,
      "outputs": []
    },
    {
      "cell_type": "markdown",
      "metadata": {
        "id": "-i2wux5VfYOi"
      },
      "source": [
        "### Uncertainty"
      ]
    },
    {
      "cell_type": "markdown",
      "metadata": {
        "id": "xMrh46wvj1qX"
      },
      "source": [
        "HEALTHY"
      ]
    },
    {
      "cell_type": "code",
      "metadata": {
        "colab": {
          "base_uri": "https://localhost:8080/"
        },
        "id": "sPN-fDNJj3QQ",
        "outputId": "9dc79889-b848-4022-f016-751d075034e8"
      },
      "source": [
        "max_uncertainty_correct = 0\n",
        "min_uncertainty_incorrect = 1\n",
        "for i,j in zip(imageDataframe['Healthy Predictions'].values,imageDataframe['Healthy Uncertainty'].values):\n",
        "  if (i<0):                                                                     # CORRECT PREDICTION\n",
        "    if (j>max_uncertainty_correct):                                             # NEW MAX UNCERTAINTY ON CORRECT PREDICTION\n",
        "      max_uncertainty_correct = j\n",
        "  else:                                                                         # WRONG PREDICTION\n",
        "    if (j<min_uncertainty_incorrect):                                           # NEW MIN UNCERTAINTY ON WRONG PREDICTION\n",
        "      min_uncertainty_incorrect = j\n",
        "print('Max Uncertainty on correct predictions: ',max_uncertainty_correct,\n",
        "      '\\nMin Uncertainty on wrong predictions :  ',min_uncertainty_incorrect)\n",
        "\n",
        "sigma = 0.21\n",
        "\n",
        "k=0\n",
        "w=0\n",
        "z=0\n",
        "q=0\n",
        "for i,j in zip(imageDataframe['Healthy Predictions'].values,imageDataframe['Healthy Uncertainty'].values):\n",
        "  if (i<0):                                                                     # CORRECT PREDICTION\n",
        "    if (j<sigma):                                                               # UNCERTAIN CORRECT PREDICTION LESS THEN SIGMA\n",
        "      k+=1                                                                      # SURE CORRECT PREDICTIONS\n",
        "    else:\n",
        "      z+=1                                                                      # NOT SURE CORRECT PREDICTIONS\n",
        "  else:\n",
        "    if (j<sigma):                                                               # UNCERTAIN WRONG PREDICTION LESS THEN SIGMA\n",
        "      w+=1                                                                      # SURE WRONG PREDICTIONS\n",
        "    else:\n",
        "      q+=1                                                                      # NOT SURE WRONG PREDICTIONS\n",
        "k=k/int(len(imageDataframe['Healthy Predictions'].values))\n",
        "w=w/int(len(imageDataframe['Healthy Predictions'].values))\n",
        "z=z/int(len(imageDataframe['Healthy Predictions'].values))\n",
        "q=q/int(len(imageDataframe['Healthy Predictions'].values))\n",
        "print('\\nReverse label prediction with sigma = ',sigma,'\\n')\n",
        "print('Correct Sure Prediction:     ',k,'% ',' Wrong Sure Prediction:       ',w,'%\\n')\n",
        "print('Correct Not Sure Prediction: ',z,'% ',' Wrong Not Sure Prediction:   ',q,'%\\n')"
      ],
      "execution_count": null,
      "outputs": [
        {
          "output_type": "stream",
          "text": [
            "Max Uncertainty on correct predictions:  0.24998232858871486 \n",
            "Min Uncertainty on wrong predictions :   0.0\n",
            "\n",
            "Reverse label prediction with sigma =  0.21 \n",
            "\n",
            "Correct Sure Prediction:      0.43829787234042555 %   Wrong Sure Prediction:        0.35319148936170214 %\n",
            "\n",
            "Correct Not Sure Prediction:  0.029787234042553193 %   Wrong Not Sure Prediction:    0.17872340425531916 %\n",
            "\n"
          ],
          "name": "stdout"
        }
      ]
    },
    {
      "cell_type": "markdown",
      "metadata": {
        "id": "qwvGLsvAj0k5"
      },
      "source": [
        "TUMORAL"
      ]
    },
    {
      "cell_type": "code",
      "metadata": {
        "colab": {
          "base_uri": "https://localhost:8080/"
        },
        "id": "fEe7DaZcfaGD",
        "outputId": "e1385816-2698-47f9-d48e-d0dfd607f831"
      },
      "source": [
        "max_uncertainty_correct = 0\n",
        "min_uncertainty_incorrect = 1\n",
        "for i,j in zip(imageDataframe['Tumoral Predictions'].values,imageDataframe['Tumoral Uncertainty'].values):\n",
        "  if (i>0):                                                                     # CORRECT PREDICTION\n",
        "    if (j>max_uncertainty_correct):                                             # NEW MAX UNCERTAINTY ON CORRECT PREDICTIONS\n",
        "      max_uncertainty_correct = j\n",
        "  else:                                                                         # WRONG PREDICTION\n",
        "    if (j<min_uncertainty_incorrect):                                           # NEW MIN UNCERTAINTY ON WRONG PREDICTION\n",
        "      min_uncertainty_incorrect = j\n",
        "print('Max Uncertainty on correct predictions: ',max_uncertainty_correct,\n",
        "      ' Min Uncertainty on wrong predictions :  ',min_uncertainty_incorrect)\n",
        "\n",
        "sigma = 0.21\n",
        "k=0\n",
        "w=0\n",
        "z=0\n",
        "q=0\n",
        "for i,j in zip(imageDataframe['Tumoral Predictions'].values,imageDataframe['Tumoral Uncertainty'].values):\n",
        "  if (i>0):                                                                     # CORRECT PREDICTION\n",
        "    if (j<sigma):                                                               # UNCERTAIN CORRECT PREDICTION LESS THEN SIGMA\n",
        "      k+=1                                                                      # SURE CORRECT PREDICTIONS\n",
        "    else:\n",
        "      z+=1                                                                      # NOT SURE CORRECT PREDICTIONS\n",
        "  else:\n",
        "    if (j<sigma):                                                               # UNCERTAIN WRONG PREDICTION LESS THEN SIGMA\n",
        "      w+=1                                                                      # SURE WRONG PREDICTIONS\n",
        "    else:\n",
        "      q+=1                                                                      # NOT SURE WRONG PREDICTIONS\n",
        "k=k/int(len(imageDataframe['Tumoral Predictions'].values))\n",
        "w=w/int(len(imageDataframe['Tumoral Predictions'].values))\n",
        "z=z/int(len(imageDataframe['Tumoral Predictions'].values))\n",
        "q=q/int(len(imageDataframe['Tumoral Predictions'].values))\n",
        "print('\\nReverse label prediction with sigma = ',sigma,'\\n')\n",
        "print('Correct Sure Prediction:     ',k,'% ',' Wrong Sure Prediction:       ',w,'%\\n')\n",
        "print('Correct Not Sure Prediction: ',z,'% ',' Wrong Not Sure Prediction:   ',q,'%\\n')"
      ],
      "execution_count": null,
      "outputs": [
        {
          "output_type": "stream",
          "text": [
            "Max Uncertainty on correct predictions:  0.2493724750858355  Min Uncertainty on wrong predictions :   1.887377114438724e-10\n",
            "\n",
            "Reverse label prediction with sigma =  0.21 \n",
            "\n",
            "Correct Sure Prediction:      0.3617021276595745 %   Wrong Sure Prediction:        0.4851063829787234 %\n",
            "\n",
            "Correct Not Sure Prediction:  0.13617021276595745 %   Wrong Not Sure Prediction:    0.01702127659574468 %\n",
            "\n"
          ],
          "name": "stdout"
        }
      ]
    },
    {
      "cell_type": "markdown",
      "metadata": {
        "id": "MMjc9Re2Pm3e"
      },
      "source": [
        "## GENOMICS"
      ]
    },
    {
      "cell_type": "markdown",
      "metadata": {
        "id": "SONtoNlLuaDz"
      },
      "source": [
        "### Analysis"
      ]
    },
    {
      "cell_type": "code",
      "metadata": {
        "id": "MjyCU_QBP72n"
      },
      "source": [
        "# FOR COMPATIBILITY IN ZIP LOOP\n",
        "y_test_=y_test.to_numpy()\n",
        "y_test_=y_test_.tolist()\n",
        "_y_test = [item for sub in y_test_ for item in sub]"
      ],
      "execution_count": null,
      "outputs": []
    },
    {
      "cell_type": "code",
      "metadata": {
        "id": "SZWTwS7tMB8G"
      },
      "source": [
        "genomic_preds_healthy=[]                                                        # HEALTHY PREDICTIONS\n",
        "genomic_preds_tumoral=[]                                                        # TUMORAL PREDICTIONS\n",
        "genomic_uncertainty_healthy=[]                                                  # HEALTHY UNCERTAINTY\n",
        "genomic_uncertainty_tumoral=[]                                                  # TUMORAL UNCERTAINTY\n",
        "for genomic, label in zip(X_test_pca,_y_test):                          \n",
        "  if (label==0):                                                                # IF HEALTHY\n",
        "    genomic_pred_healthy = []                                                   # PREDICTION LIST\n",
        "    genomic = np.asarray(genomic).reshape((1,3))                                # CONTERT TO NUMPY ARRAY AND RESHAPE FOR INPUT LAYER\n",
        "    for i in range(0,10):                                                       # NUMBER OF PREDICTIONS\n",
        "      _genomic_pred_healthy = My_Genomics_model_4.predict(genomic)              # PREDICT\n",
        "      genomic_pred_healthy.append(float(_genomic_pred_healthy))                 # APPEND PREDICTIONS TO A LIST\n",
        "      _genomic_pred_healthy = My_Genomics_model_8.predict(genomic)              # PREDICT\n",
        "      genomic_pred_healthy.append(float(_genomic_pred_healthy))                 # APPEND PREDICTIONS TO A LIST\n",
        "      _genomic_pred_healthy = My_Genomics_model_16.predict(genomic)             # PREDICT\n",
        "      genomic_pred_healthy.append(float(_genomic_pred_healthy))                 # APPEND PREDICTIONS TO A LIST\n",
        "      _genomic_pred_healthy = My_Genomics_model_64.predict(genomic)             # PREDICT\n",
        "      genomic_pred_healthy.append(float(_genomic_pred_healthy))                 # APPEND PREDICTIONS TO A LIST\n",
        "      _genomic_pred_healthy = My_Genomics_model_128.predict(genomic)            # PREDICT\n",
        "      genomic_pred_healthy.append(float(_genomic_pred_healthy))                 # APPEND PREDICTIONS TO A LIST\n",
        "    genomic_pred_healthy = np.array(genomic_pred_healthy)                       # LIST TO NUMPY ARRAY\n",
        "    if (np.mean(genomic_pred_healthy, axis=0)<0.5):\n",
        "      mean_genomic_pred_healthy = np.mean(genomic_pred_healthy, axis=0)-1       # -> -1 HEALTHY\n",
        "    else:\n",
        "      mean_genomic_pred_healthy = np.mean(genomic_pred_healthy, axis=0)         # ->1 TUMORAL\n",
        "    genomic_preds_healthy.append(mean_genomic_pred_healthy)                     # APPEND PREDICTIONS MEAN\n",
        "    aleatoric = np.mean(genomic_pred_healthy * (1 - genomic_pred_healthy), axis=0)  \n",
        "    epistemic = np.mean(genomic_pred_healthy ** 2, axis=0) - np.mean(genomic_pred_healthy, axis=0) ** 2\n",
        "    uncertainty_genomic_pred_healthy = epistemic + aleatoric                    # ADD UNCERTAINTIES\n",
        "    genomic_uncertainty_healthy.append(uncertainty_genomic_pred_healthy)        # APPEND PREDICTIONS UNCERTAINTY\n",
        "  if (label==1):                                                                # IF TUMORAL\n",
        "    genomic_pred_tumoral = []                                                   # PREDICTIONS LIST\n",
        "    genomic = np.asarray(genomic).reshape((1,3))                                # CONTERT TO NUMPY ARRAY AND RESHAPE FOR INPUT LAYER\n",
        "    for i in range(0,10):                                                       # NUMBER OF PREDICTIONS\n",
        "      _genomic_pred_tumoral = My_Genomics_model_4.predict(genomic)              # PREDICT\n",
        "      genomic_pred_tumoral.append(float(_genomic_pred_tumoral))                 # APPEND PREDICTIONS TO A LIST\n",
        "      _genomic_pred_tumoral = My_Genomics_model_8.predict(genomic)              # PREDICT\n",
        "      genomic_pred_tumoral.append(float(_genomic_pred_tumoral))                 # APPEND PREDICTIONS TO A LIST\n",
        "      _genomic_pred_tumoral = My_Genomics_model_16.predict(genomic)             # PREDICT\n",
        "      genomic_pred_tumoral.append(float(_genomic_pred_tumoral))                 # APPEND PREDICTIONS TO A LIST\n",
        "      _genomic_pred_tumoral = My_Genomics_model_64.predict(genomic)             # PREDICT\n",
        "      genomic_pred_tumoral.append(float(_genomic_pred_tumoral))                 # APPEND PREDICTIONS TO A LIST\n",
        "      _genomic_pred_tumoral = My_Genomics_model_128.predict(genomic)            # PREDICT\n",
        "      genomic_pred_tumoral.append(float(_genomic_pred_tumoral))                 # APPEND PREDICTIONS TO A LIST\n",
        "    genomic_pred_tumoral = np.array(genomic_pred_tumoral)                       # LIST TO NUMPY ARRAY\n",
        "    if (np.mean(genomic_pred_tumoral, axis=0)<0.5):\n",
        "      mean_genomic_pred_tumoral = np.mean(genomic_pred_tumoral, axis=0)-1       # -> -1 HEALTHY\n",
        "    else:\n",
        "      mean_genomic_pred_tumoral = np.mean(genomic_pred_tumoral, axis=0)         # -> 1 TUMORAL\n",
        "    genomic_preds_tumoral.append(mean_genomic_pred_tumoral)                     # APPEND PREDICTIONS MEAN\n",
        "    aleatoric = np.mean(genomic_pred_tumoral * (1 - genomic_pred_tumoral), axis=0)\n",
        "    epistemic = np.mean(genomic_pred_tumoral ** 2, axis=0) - np.mean(genomic_pred_tumoral, axis=0) ** 2\n",
        "    uncertainty_genomic_pred_tumoral = epistemic + aleatoric                    # ADD UNCERTAINTIES\n",
        "    genomic_uncertainty_tumoral.append(uncertainty_genomic_pred_tumoral)        # APPEND PREDICTIONS UNCERTAINTY"
      ],
      "execution_count": null,
      "outputs": []
    },
    {
      "cell_type": "markdown",
      "metadata": {
        "id": "jrf_Sfl-PHiH"
      },
      "source": [
        "### Results Analysis"
      ]
    },
    {
      "cell_type": "code",
      "metadata": {
        "id": "MjVjObppaH_L"
      },
      "source": [
        "genomicsDataframe = pd.read_csv('/content/drive/My Drive/Bioinfo/genomicsDataFrame.csv')"
      ],
      "execution_count": 6,
      "outputs": []
    },
    {
      "cell_type": "code",
      "metadata": {
        "id": "66SsJBjgdeyU"
      },
      "source": [
        "genomicsDataframe = pd.DataFrame(genomic_preds_healthy,columns=['Healthy Predictions'])\n",
        "genomicsDataframe['Healthy Uncertainty'] = genomic_uncertainty_healthy\n",
        "genomicsDataframe['Tumoral Predictions'] = genomic_preds_tumoral[:len(genomic_preds_healthy)]\n",
        "genomicsDataframe['Tumoral Uncertainty'] = genomic_uncertainty_tumoral[:len(genomic_preds_healthy)]"
      ],
      "execution_count": null,
      "outputs": []
    },
    {
      "cell_type": "code",
      "metadata": {
        "colab": {
          "base_uri": "https://localhost:8080/"
        },
        "id": "8b7byiE_lf0Q",
        "outputId": "3dd37eb0-c276-4fac-e30d-a4d8a63020fa"
      },
      "source": [
        "k=0\n",
        "for i,j in zip(genomicsDataframe['Healthy Predictions'].values,genomicsDataframe['Healthy Uncertainty'].values):\n",
        "  if (i<0):\n",
        "    k+=1\n",
        "genomicsAccuracyHealthy = k/int(len(genomicsDataframe['Healthy Predictions'].values))\n",
        "print('Accuracy Healthy: ', genomicsAccuracyHealthy)\n",
        "w=0\n",
        "for i,j in zip(genomicsDataframe['Tumoral Predictions'].values,genomicsDataframe['Tumoral Uncertainty'].values):\n",
        "  if (i>0):\n",
        "    w+=1\n",
        "genomicsAccuracyTumoral = w/int(len(genomicsDataframe['Tumoral Predictions'].values))\n",
        "print('Accuracy Tumoral: ', genomicsAccuracyTumoral)"
      ],
      "execution_count": 7,
      "outputs": [
        {
          "output_type": "stream",
          "text": [
            "Accuracy Healthy:  1.0\n",
            "Accuracy Tumoral:  0.9529914529914529\n"
          ],
          "name": "stdout"
        }
      ]
    },
    {
      "cell_type": "code",
      "metadata": {
        "id": "6-k8nmqtaLaV"
      },
      "source": [
        "genomicsDataframe.to_csv('/content/drive/My Drive/Bioinfo/genomicsDataFrame2.csv',index=True)"
      ],
      "execution_count": null,
      "outputs": []
    },
    {
      "cell_type": "markdown",
      "metadata": {
        "id": "FXyPB7QBBXRo"
      },
      "source": [
        "### Reverse label based on uncertainty"
      ]
    },
    {
      "cell_type": "code",
      "metadata": {
        "colab": {
          "base_uri": "https://localhost:8080/"
        },
        "id": "WPJgXi3-_aZG",
        "outputId": "c8854e87-33e5-48dc-c869-920d6de0faff"
      },
      "source": [
        "# HEALTHY\n",
        "genomicsDataframe.loc[(genomicsDataframe['Healthy Uncertainty'] > 0.249), 'Healthy Predictions'] = -1*genomicsDataframe['Healthy Predictions']\n",
        "k=0\n",
        "for i,j in zip(genomicsDataframe['Healthy Predictions'].values,genomicsDataframe['Healthy Uncertainty'].values):\n",
        "  if (i<0):\n",
        "    k+=1\n",
        "genomicsAccuracyHealthy = k/int(len(genomicsDataframe['Healthy Predictions'].values))\n",
        "print('Accuracy Healthy: ',genomicsAccuracyHealthy)\n",
        "# TUMORAL\n",
        "genomicsDataframe.loc[(genomicsDataframe['Tumoral Uncertainty'] > 0.249), 'Tumoral Predictions'] = -1*genomicsDataframe['Tumoral Predictions']\n",
        "w=0\n",
        "for i,j in zip(genomicsDataframe['Tumoral Predictions'].values,genomicsDataframe['Tumoral Uncertainty'].values):\n",
        "  if (i>0):\n",
        "    w+=1\n",
        "genomicsAccuracyTumoral = w/int(len(genomicsDataframe['Tumoral Predictions'].values))\n",
        "print('Accuracy Tumoral: ', genomicsAccuracyTumoral)"
      ],
      "execution_count": 8,
      "outputs": [
        {
          "output_type": "stream",
          "text": [
            "Accuracy Healthy:  1.0\n",
            "Accuracy Tumoral:  0.9572649572649573\n"
          ],
          "name": "stdout"
        }
      ]
    },
    {
      "cell_type": "code",
      "metadata": {
        "id": "sEP6fC8CDTjb"
      },
      "source": [
        "genomicsDataframe.to_csv('/content/drive/My Drive/Bioinfo/reverseGenomicsDataFrame.csv',index=True)"
      ],
      "execution_count": null,
      "outputs": []
    },
    {
      "cell_type": "markdown",
      "metadata": {
        "id": "boXIeBs6rsMR"
      },
      "source": [
        "### Uncertainty"
      ]
    },
    {
      "cell_type": "markdown",
      "metadata": {
        "id": "x_9IG1oel5bB"
      },
      "source": [
        "HEALTHY"
      ]
    },
    {
      "cell_type": "code",
      "metadata": {
        "colab": {
          "base_uri": "https://localhost:8080/"
        },
        "id": "jSuPWaxxT1eV",
        "outputId": "42d3519a-7f72-420c-c26d-97aa4450f7be"
      },
      "source": [
        "max_uncertainty_correct = 0\n",
        "min_uncertainty_incorrect = 1\n",
        "for i,j in zip(genomicsDataframe['Healthy Predictions'].values,genomicsDataframe['Healthy Uncertainty'].values):\n",
        "  if (i<0):                                                                     # CORRECT PREDICTION\n",
        "    if (j>max_uncertainty_correct):                                             # NEW MAX UNCERTAINTY ON CORRECT PREDICTION\n",
        "      max_uncertainty_correct = j\n",
        "  else:                                                                         # WRONG PREDICTION\n",
        "    if (j<min_uncertainty_incorrect):                                           # NEW MIN UNCERTAINTY ON WRONG PREDICTION\n",
        "      min_uncertainty_incorrect = j\n",
        "print('Max Uncertainty on correct predictions: ',max_uncertainty_correct,\n",
        "      '\\nMin Uncertainty on wrong predictions :  ',min_uncertainty_incorrect)\n",
        "\n",
        "sigma = 0.249\n",
        "k=0\n",
        "w=0\n",
        "z=0\n",
        "q=0\n",
        "for i,j in zip(genomicsDataframe['Healthy Predictions'].values,genomicsDataframe['Healthy Uncertainty'].values):\n",
        "  if (i<0):                                                                     # CORRECT PREDICTION\n",
        "    if (j<sigma):                                                               # UNCERTAIN CORRECT PREDICTION LESS THEN SIGMA\n",
        "      k+=1                                                                      # SURE CORRECT PREDICTIONS\n",
        "    else:\n",
        "      z+=1                                                                      # NOT SURE CORRECT PREDICTIONS\n",
        "  else:\n",
        "    if (j<sigma):                                                               # UNCERTAIN WRONG PREDICTION LESS THEN SIGMA\n",
        "      w+=1                                                                      # SURE WRONG PREDICTIONS\n",
        "    else:\n",
        "      q+=1                                                                      # NOT SURE WRONG PREDICTIONS\n",
        "k=k/int(len(genomicsDataframe['Healthy Predictions'].values))\n",
        "w=w/int(len(genomicsDataframe['Healthy Predictions'].values))\n",
        "z=z/int(len(genomicsDataframe['Healthy Predictions'].values))\n",
        "q=q/int(len(genomicsDataframe['Healthy Predictions'].values))\n",
        "print('\\nReverse label prediction with sigma = ',sigma,'\\n')\n",
        "print('Correct Sure Prediction:     ',k,'% ',' Wrong Sure Prediction:       ',w,'%\\n')\n",
        "print('Correct Not Sure Prediction: ',z,'% ',' Wrong Not Sure Prediction:   ',q,'%\\n')"
      ],
      "execution_count": null,
      "outputs": [
        {
          "output_type": "stream",
          "text": [
            "Max Uncertainty on correct predictions:  0.22089637252977065 \n",
            "Min Uncertainty on wrong predictions :   1\n",
            "\n",
            "Reverse label prediction with sigma =  0.249 \n",
            "\n",
            "Correct Sure Prediction:      1.0 %   Wrong Sure Prediction:        0.0 %\n",
            "\n",
            "Correct Not Sure Prediction:  0.0 %   Wrong Not Sure Prediction:    0.0 %\n",
            "\n"
          ],
          "name": "stdout"
        }
      ]
    },
    {
      "cell_type": "markdown",
      "metadata": {
        "id": "MGPX8RDSl-H2"
      },
      "source": [
        "TUMORAL"
      ]
    },
    {
      "cell_type": "code",
      "metadata": {
        "colab": {
          "base_uri": "https://localhost:8080/"
        },
        "id": "45Q_ENaEBpHl",
        "outputId": "cf86b553-01f8-4783-8883-cbb2293223dc"
      },
      "source": [
        "max_uncertainty_correct = 0\n",
        "min_uncertainty_incorrect = 1\n",
        "for i,j in zip(genomicsDataframe['Tumoral Predictions'].values,genomicsDataframe['Tumoral Uncertainty'].values):\n",
        "  if (i>0):                                                                     # CORRECT PREDICTION\n",
        "    if (j>max_uncertainty_correct):                                             # NEW MAX UNCERTAINTY ON CORRECT PREDICTION\n",
        "      max_uncertainty_correct = j\n",
        "  else:                                                                         # WRONG PREDICTION\n",
        "    if (j<min_uncertainty_incorrect):                                           # NEW MIN UNCERTAINTY ON WRONG PREDICTION\n",
        "      min_uncertainty_incorrect = j\n",
        "print('Max Uncertainty on correct predictions: ',max_uncertainty_correct,\n",
        "      '\\nMin Uncertainty on wrong predictions :  ',min_uncertainty_incorrect)\n",
        "\n",
        "sigma = 0.249\n",
        "k=0\n",
        "w=0\n",
        "z=0\n",
        "q=0\n",
        "for i,j in zip(genomicsDataframe['Tumoral Predictions'].values,genomicsDataframe['Tumoral Uncertainty'].values):\n",
        "  if (i>0):                                                                     # CORRECT PREDICTION\n",
        "    if (j<sigma):                                                               # UNCERTAIN CORRECT PREDICTION LESS THEN SIGMA\n",
        "      k+=1                                                                      # SURE CORRECT PREDICTIONS\n",
        "    else:\n",
        "      z+=1                                                                      # NOT SURE CORRECT PREDICTIONS\n",
        "  else:\n",
        "    if (j<sigma):                                                               # UNCERTAIN WRONG PREDICTION LESS THEN SIGMA\n",
        "      w+=1                                                                      # SURE WRONG PREDICTIONS\n",
        "    else:\n",
        "      q+=1                                                                      # NOT SURE WRONG PREDICTIONS\n",
        "k=k/int(len(genomicsDataframe['Tumoral Predictions'].values))\n",
        "w=w/int(len(genomicsDataframe['Tumoral Predictions'].values))\n",
        "z=z/int(len(genomicsDataframe['Tumoral Predictions'].values))\n",
        "q=q/int(len(genomicsDataframe['Tumoral Predictions'].values))\n",
        "print('\\nReverse label prediction with sigma = ',sigma,'\\n')\n",
        "print('Correct Sure Prediction:     ',k,'% ',' Wrong Sure Prediction:       ',w,'%\\n')\n",
        "print('Correct Not Sure Prediction: ',z,'% ',' Wrong Not Sure Prediction:   ',q,'%\\n')"
      ],
      "execution_count": null,
      "outputs": [
        {
          "output_type": "stream",
          "text": [
            "Max Uncertainty on correct predictions:  0.2128340204549912 \n",
            "Min Uncertainty on wrong predictions :   0.13358489709581445\n",
            "\n",
            "Reverse label prediction with sigma =  0.249 \n",
            "\n",
            "Correct Sure Prediction:      0.9316239316239316 %   Wrong Sure Prediction:        0.06837606837606838 %\n",
            "\n",
            "Correct Not Sure Prediction:  0.0 %   Wrong Not Sure Prediction:    0.0 %\n",
            "\n"
          ],
          "name": "stdout"
        }
      ]
    }
  ]
}